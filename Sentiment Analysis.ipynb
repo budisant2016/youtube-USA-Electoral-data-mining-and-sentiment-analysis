{
 "cells": [
  {
   "cell_type": "markdown",
   "id": "c4d68ae2",
   "metadata": {},
   "source": [
    "$$\n",
    "\\text{Stushi Das - Pset 2}\n",
    "$$"
   ]
  },
  {
   "cell_type": "markdown",
   "id": "7ab82af9",
   "metadata": {},
   "source": [
    "### Q1 - Asking Questions"
   ]
  },
  {
   "cell_type": "markdown",
   "id": "29561b1a",
   "metadata": {},
   "source": [
    "### What are some compelling questions that you can ask with the dataset you collected?"
   ]
  },
  {
   "cell_type": "markdown",
   "id": "317a6a55",
   "metadata": {},
   "source": [
    "**Q1 - Is there some correlation between the sentiments of a post and the sentiments of the replies for that post.**\n",
    "\n",
    "Rationale : This can help us deduce how the users responds to the different sentiments of the news posts and also if the sentiments of the post have any bearings on the sentiments of users' replies. I think this would be interesting because social media websites can possibly predict by the post content whether the replies could get problematic or toxic. This can help them to take some actions like limiting comments on that post to help keep their platforms safe.\n",
    "\n",
    "\n",
    "**Q2 - Is there a difference in the sentiment of users who reply on Washington Post's posts and NY Times' posts?** \n",
    "\n",
    "\n",
    "Rationale: This can help us in understanding if there is any bias present - both on the accounts' perspective and the users' perspective. This might also reveal whether users trust a particular source of information more than the other and so might be useful in the study of misinformation on Bluesky. And this may also be helpful to see if posts of certain ideologies are more prevalent on one of the two accounts and so the users' replies change accordingly."
   ]
  },
  {
   "cell_type": "code",
   "execution_count": 1,
   "id": "8b059490",
   "metadata": {},
   "outputs": [],
   "source": [
    "#importing all relevant libraries\n",
    "import pandas as pd\n",
    "import numpy as np\n",
    "import sklearn\n",
    "import re\n",
    "import nltk, json, io\n",
    "#nltk.download('stopwords')\n",
    "from nltk.corpus import stopwords\n",
    "import spacy\n",
    "from nltk.tokenize import sent_tokenize, word_tokenize, WordPunctTokenizer\n",
    "#nltk.download('opinion_lexicon')\n",
    "from nltk.corpus import opinion_lexicon\n",
    "#!pip install vaderSentiment\n",
    "from vaderSentiment.vaderSentiment import SentimentIntensityAnalyzer\n",
    "#!pip install TextBlob\n",
    "from textblob import TextBlob\n",
    "import matplotlib.pyplot as plt\n",
    "import requests\n",
    "from bs4 import BeautifulSoup"
   ]
  },
  {
   "cell_type": "code",
   "execution_count": 2,
   "id": "3b4685df",
   "metadata": {},
   "outputs": [
    {
     "data": {
      "text/html": [
       "<div>\n",
       "<style scoped>\n",
       "    .dataframe tbody tr th:only-of-type {\n",
       "        vertical-align: middle;\n",
       "    }\n",
       "\n",
       "    .dataframe tbody tr th {\n",
       "        vertical-align: top;\n",
       "    }\n",
       "\n",
       "    .dataframe thead th {\n",
       "        text-align: right;\n",
       "    }\n",
       "</style>\n",
       "<table border=\"1\" class=\"dataframe\">\n",
       "  <thead>\n",
       "    <tr style=\"text-align: right;\">\n",
       "      <th></th>\n",
       "      <th>AccountName</th>\n",
       "      <th>PostID</th>\n",
       "      <th>PostText</th>\n",
       "      <th>PostCreationTime</th>\n",
       "      <th>PostLikes</th>\n",
       "      <th>PostRepost</th>\n",
       "      <th>ReplyID</th>\n",
       "      <th>ReplyCreationTime</th>\n",
       "      <th>ReplyText</th>\n",
       "      <th>ReplyLike</th>\n",
       "      <th>ReplyRepost</th>\n",
       "    </tr>\n",
       "  </thead>\n",
       "  <tbody>\n",
       "    <tr>\n",
       "      <th>0</th>\n",
       "      <td>The Washington Post</td>\n",
       "      <td>at://did:plc:k5nskatzhyxersjilvtnz4lh/app.bsky...</td>\n",
       "      <td>Exclusive: The Biden administration is working...</td>\n",
       "      <td>2024-01-27T18:32:48.577Z</td>\n",
       "      <td>64</td>\n",
       "      <td>12</td>\n",
       "      <td>at://did:plc:5re3aeyucqzhi77ydlo63745/app.bsky...</td>\n",
       "      <td>2024-01-27T18:49:51.312Z</td>\n",
       "      <td>Ukraine must be supported at all costs. Our fr...</td>\n",
       "      <td>4</td>\n",
       "      <td>0</td>\n",
       "    </tr>\n",
       "    <tr>\n",
       "      <th>1</th>\n",
       "      <td>The Washington Post</td>\n",
       "      <td>at://did:plc:k5nskatzhyxersjilvtnz4lh/app.bsky...</td>\n",
       "      <td>Exclusive: The Biden administration is working...</td>\n",
       "      <td>2024-01-27T18:32:48.577Z</td>\n",
       "      <td>64</td>\n",
       "      <td>12</td>\n",
       "      <td>at://did:plc:gl53bo6xdwyxxrtmshtog3dk/app.bsky...</td>\n",
       "      <td>2024-01-27T19:23:53.120Z</td>\n",
       "      <td>к сожеалению вы уже и не великая страна ,вы по...</td>\n",
       "      <td>0</td>\n",
       "      <td>0</td>\n",
       "    </tr>\n",
       "    <tr>\n",
       "      <th>2</th>\n",
       "      <td>The Washington Post</td>\n",
       "      <td>at://did:plc:k5nskatzhyxersjilvtnz4lh/app.bsky...</td>\n",
       "      <td>Exclusive: The Biden administration is working...</td>\n",
       "      <td>2024-01-27T18:32:48.577Z</td>\n",
       "      <td>64</td>\n",
       "      <td>12</td>\n",
       "      <td>at://did:plc:wxiy5upleankpf7xyo3qa26q/app.bsky...</td>\n",
       "      <td>2024-01-28T00:13:59.710Z</td>\n",
       "      <td>Supporting Kiev = Supporting Nazism</td>\n",
       "      <td>0</td>\n",
       "      <td>0</td>\n",
       "    </tr>\n",
       "    <tr>\n",
       "      <th>3</th>\n",
       "      <td>The Washington Post</td>\n",
       "      <td>at://did:plc:k5nskatzhyxersjilvtnz4lh/app.bsky...</td>\n",
       "      <td>Breaking news: Donald Trump is ordered to pay ...</td>\n",
       "      <td>2024-01-26T21:49:40.663Z</td>\n",
       "      <td>450</td>\n",
       "      <td>74</td>\n",
       "      <td>at://did:plc:72ibcdq3wu4tvmkau4rmeih7/app.bsky...</td>\n",
       "      <td>2024-01-26T21:50:59.113Z</td>\n",
       "      <td>Anyone know if she will get this money?  Hope so.</td>\n",
       "      <td>6</td>\n",
       "      <td>0</td>\n",
       "    </tr>\n",
       "    <tr>\n",
       "      <th>4</th>\n",
       "      <td>The Washington Post</td>\n",
       "      <td>at://did:plc:k5nskatzhyxersjilvtnz4lh/app.bsky...</td>\n",
       "      <td>Breaking news: Donald Trump is ordered to pay ...</td>\n",
       "      <td>2024-01-26T21:49:40.663Z</td>\n",
       "      <td>450</td>\n",
       "      <td>74</td>\n",
       "      <td>at://did:plc:6im54m7hlpjfynulw5sbeywc/app.bsky...</td>\n",
       "      <td>2024-01-26T21:51:18.784Z</td>\n",
       "      <td>Me right now.</td>\n",
       "      <td>3</td>\n",
       "      <td>0</td>\n",
       "    </tr>\n",
       "  </tbody>\n",
       "</table>\n",
       "</div>"
      ],
      "text/plain": [
       "           AccountName                                             PostID  \\\n",
       "0  The Washington Post  at://did:plc:k5nskatzhyxersjilvtnz4lh/app.bsky...   \n",
       "1  The Washington Post  at://did:plc:k5nskatzhyxersjilvtnz4lh/app.bsky...   \n",
       "2  The Washington Post  at://did:plc:k5nskatzhyxersjilvtnz4lh/app.bsky...   \n",
       "3  The Washington Post  at://did:plc:k5nskatzhyxersjilvtnz4lh/app.bsky...   \n",
       "4  The Washington Post  at://did:plc:k5nskatzhyxersjilvtnz4lh/app.bsky...   \n",
       "\n",
       "                                            PostText  \\\n",
       "0  Exclusive: The Biden administration is working...   \n",
       "1  Exclusive: The Biden administration is working...   \n",
       "2  Exclusive: The Biden administration is working...   \n",
       "3  Breaking news: Donald Trump is ordered to pay ...   \n",
       "4  Breaking news: Donald Trump is ordered to pay ...   \n",
       "\n",
       "           PostCreationTime  PostLikes  PostRepost  \\\n",
       "0  2024-01-27T18:32:48.577Z         64          12   \n",
       "1  2024-01-27T18:32:48.577Z         64          12   \n",
       "2  2024-01-27T18:32:48.577Z         64          12   \n",
       "3  2024-01-26T21:49:40.663Z        450          74   \n",
       "4  2024-01-26T21:49:40.663Z        450          74   \n",
       "\n",
       "                                             ReplyID  \\\n",
       "0  at://did:plc:5re3aeyucqzhi77ydlo63745/app.bsky...   \n",
       "1  at://did:plc:gl53bo6xdwyxxrtmshtog3dk/app.bsky...   \n",
       "2  at://did:plc:wxiy5upleankpf7xyo3qa26q/app.bsky...   \n",
       "3  at://did:plc:72ibcdq3wu4tvmkau4rmeih7/app.bsky...   \n",
       "4  at://did:plc:6im54m7hlpjfynulw5sbeywc/app.bsky...   \n",
       "\n",
       "          ReplyCreationTime  \\\n",
       "0  2024-01-27T18:49:51.312Z   \n",
       "1  2024-01-27T19:23:53.120Z   \n",
       "2  2024-01-28T00:13:59.710Z   \n",
       "3  2024-01-26T21:50:59.113Z   \n",
       "4  2024-01-26T21:51:18.784Z   \n",
       "\n",
       "                                           ReplyText  ReplyLike  ReplyRepost  \n",
       "0  Ukraine must be supported at all costs. Our fr...          4            0  \n",
       "1  к сожеалению вы уже и не великая страна ,вы по...          0            0  \n",
       "2                Supporting Kiev = Supporting Nazism          0            0  \n",
       "3  Anyone know if she will get this money?  Hope so.          6            0  \n",
       "4                                      Me right now.          3            0  "
      ]
     },
     "execution_count": 2,
     "metadata": {},
     "output_type": "execute_result"
    }
   ],
   "source": [
    "#importing the data\n",
    "df = pd.read_csv(\"/Users/dstushi/Downloads/bsky_replies.csv\")\n",
    "df.head()"
   ]
  },
  {
   "cell_type": "markdown",
   "id": "7dd41665",
   "metadata": {},
   "source": [
    "### Q2 - Inspect and Data Cleaning"
   ]
  },
  {
   "cell_type": "markdown",
   "id": "b1d5fe48",
   "metadata": {},
   "source": [
    "### 2a) Inspect: Write code to inspect the data. What do you observe? Along with the code, write your observations in the markdown cell."
   ]
  },
  {
   "cell_type": "code",
   "execution_count": 3,
   "id": "9ac9c740",
   "metadata": {
    "scrolled": true
   },
   "outputs": [
    {
     "data": {
      "text/html": [
       "<div>\n",
       "<style scoped>\n",
       "    .dataframe tbody tr th:only-of-type {\n",
       "        vertical-align: middle;\n",
       "    }\n",
       "\n",
       "    .dataframe tbody tr th {\n",
       "        vertical-align: top;\n",
       "    }\n",
       "\n",
       "    .dataframe thead th {\n",
       "        text-align: right;\n",
       "    }\n",
       "</style>\n",
       "<table border=\"1\" class=\"dataframe\">\n",
       "  <thead>\n",
       "    <tr style=\"text-align: right;\">\n",
       "      <th></th>\n",
       "      <th>PostLikes</th>\n",
       "      <th>PostRepost</th>\n",
       "      <th>ReplyLike</th>\n",
       "      <th>ReplyRepost</th>\n",
       "    </tr>\n",
       "  </thead>\n",
       "  <tbody>\n",
       "    <tr>\n",
       "      <th>count</th>\n",
       "      <td>2045.000000</td>\n",
       "      <td>2045.000000</td>\n",
       "      <td>2045.000000</td>\n",
       "      <td>2045.000000</td>\n",
       "    </tr>\n",
       "    <tr>\n",
       "      <th>mean</th>\n",
       "      <td>154.160391</td>\n",
       "      <td>42.038142</td>\n",
       "      <td>3.151589</td>\n",
       "      <td>0.121760</td>\n",
       "    </tr>\n",
       "    <tr>\n",
       "      <th>std</th>\n",
       "      <td>224.138876</td>\n",
       "      <td>62.913777</td>\n",
       "      <td>7.185310</td>\n",
       "      <td>0.908936</td>\n",
       "    </tr>\n",
       "    <tr>\n",
       "      <th>min</th>\n",
       "      <td>6.000000</td>\n",
       "      <td>0.000000</td>\n",
       "      <td>0.000000</td>\n",
       "      <td>0.000000</td>\n",
       "    </tr>\n",
       "    <tr>\n",
       "      <th>25%</th>\n",
       "      <td>34.000000</td>\n",
       "      <td>9.000000</td>\n",
       "      <td>0.000000</td>\n",
       "      <td>0.000000</td>\n",
       "    </tr>\n",
       "    <tr>\n",
       "      <th>50%</th>\n",
       "      <td>64.000000</td>\n",
       "      <td>16.000000</td>\n",
       "      <td>1.000000</td>\n",
       "      <td>0.000000</td>\n",
       "    </tr>\n",
       "    <tr>\n",
       "      <th>75%</th>\n",
       "      <td>140.000000</td>\n",
       "      <td>37.000000</td>\n",
       "      <td>3.000000</td>\n",
       "      <td>0.000000</td>\n",
       "    </tr>\n",
       "    <tr>\n",
       "      <th>max</th>\n",
       "      <td>1094.000000</td>\n",
       "      <td>250.000000</td>\n",
       "      <td>114.000000</td>\n",
       "      <td>29.000000</td>\n",
       "    </tr>\n",
       "  </tbody>\n",
       "</table>\n",
       "</div>"
      ],
      "text/plain": [
       "         PostLikes   PostRepost    ReplyLike  ReplyRepost\n",
       "count  2045.000000  2045.000000  2045.000000  2045.000000\n",
       "mean    154.160391    42.038142     3.151589     0.121760\n",
       "std     224.138876    62.913777     7.185310     0.908936\n",
       "min       6.000000     0.000000     0.000000     0.000000\n",
       "25%      34.000000     9.000000     0.000000     0.000000\n",
       "50%      64.000000    16.000000     1.000000     0.000000\n",
       "75%     140.000000    37.000000     3.000000     0.000000\n",
       "max    1094.000000   250.000000   114.000000    29.000000"
      ]
     },
     "execution_count": 3,
     "metadata": {},
     "output_type": "execute_result"
    }
   ],
   "source": [
    "#checking the summary of our df\n",
    "df.describe()"
   ]
  },
  {
   "cell_type": "code",
   "execution_count": 4,
   "id": "47d0deae",
   "metadata": {},
   "outputs": [
    {
     "data": {
      "text/plain": [
       "(2045, 11)"
      ]
     },
     "execution_count": 4,
     "metadata": {},
     "output_type": "execute_result"
    }
   ],
   "source": [
    "#checking the  count of our data \n",
    "df.shape"
   ]
  },
  {
   "cell_type": "code",
   "execution_count": 5,
   "id": "31842c77",
   "metadata": {},
   "outputs": [
    {
     "data": {
      "text/plain": [
       "AccountName           0\n",
       "PostID                0\n",
       "PostText              0\n",
       "PostCreationTime      0\n",
       "PostLikes             0\n",
       "PostRepost            0\n",
       "ReplyID               0\n",
       "ReplyCreationTime     0\n",
       "ReplyText            38\n",
       "ReplyLike             0\n",
       "ReplyRepost           0\n",
       "dtype: int64"
      ]
     },
     "execution_count": 5,
     "metadata": {},
     "output_type": "execute_result"
    }
   ],
   "source": [
    "#checking for any null values in our df\n",
    "df.isnull().sum()"
   ]
  },
  {
   "cell_type": "code",
   "execution_count": 6,
   "id": "4a206bec",
   "metadata": {},
   "outputs": [
    {
     "data": {
      "text/plain": [
       "196"
      ]
     },
     "execution_count": 6,
     "metadata": {},
     "output_type": "execute_result"
    }
   ],
   "source": [
    "#checking the length of unique postsIDs\n",
    "len(df['PostID'].unique())"
   ]
  },
  {
   "cell_type": "code",
   "execution_count": 7,
   "id": "22a3e1d0",
   "metadata": {},
   "outputs": [
    {
     "data": {
      "text/plain": [
       "2045"
      ]
     },
     "execution_count": 7,
     "metadata": {},
     "output_type": "execute_result"
    }
   ],
   "source": [
    "#checking the length of unique ReplyIds\n",
    "len(df['ReplyID'].unique())"
   ]
  },
  {
   "cell_type": "code",
   "execution_count": 8,
   "id": "84043bb7",
   "metadata": {},
   "outputs": [
    {
     "data": {
      "text/plain": [
       "array(['The Washington Post', 'Dan Diamond', 'Post Sports ',\n",
       "       'The New York Times', 'Karen Yourish', 'Charlie Savage'],\n",
       "      dtype=object)"
      ]
     },
     "execution_count": 8,
     "metadata": {},
     "output_type": "execute_result"
    }
   ],
   "source": [
    "#checking if AccountName column is clean\n",
    "df['AccountName'].unique()"
   ]
  },
  {
   "cell_type": "code",
   "execution_count": 9,
   "id": "f4ea7c86",
   "metadata": {
    "scrolled": true
   },
   "outputs": [
    {
     "data": {
      "text/plain": [
       "ReplyText\n",
       "#primaries #trump #maga #gop #tuckfrump #puckfutin\\n#aiart #LifeOnMars #dalle3 #RealLifeOnMars #dada #reallifeonmarswithoutelonandjeff #forallmankind #fuckbergerzuck \\n#russiatoday #rt #puckfutin\\n#putin #russia #russianinvasion \\nПутин - военный преступник\\n#СЛАВАУКРАЇНІ #ukraine .    3\n",
       "Who?                                                                                                                                                                                                                                                                                           3\n",
       "Name: count, dtype: int64"
      ]
     },
     "execution_count": 9,
     "metadata": {},
     "output_type": "execute_result"
    }
   ],
   "source": [
    "#checking the head of reply text column to check the kind of strings we have\n",
    "df.ReplyText.value_counts().head(2)"
   ]
  },
  {
   "cell_type": "code",
   "execution_count": 10,
   "id": "d90b8157",
   "metadata": {},
   "outputs": [
    {
     "data": {
      "text/plain": [
       "PostText\n",
       "Republican polling leader Donald Trump on Tuesday threatened unrest if the criminal charges against him cause him to lose the 2024 election. The former president did not take questions and walked away as a Washington Post reporter asked him to rule out violence by his supporters.    85\n",
       "Breaking news: Rudy Giuliani must pay two Georgia poll workers who sued him for defamation $148 million after he falsely accused them of helping to steal the 2020 presidential election from Donald Trump.                                                                                 59\n",
       "Name: count, dtype: int64"
      ]
     },
     "execution_count": 10,
     "metadata": {},
     "output_type": "execute_result"
    }
   ],
   "source": [
    "#similarly checking the head of post text column to check the kind of strings we have\n",
    "df.PostText.value_counts().head(2)"
   ]
  },
  {
   "cell_type": "markdown",
   "id": "08432bd2",
   "metadata": {},
   "source": [
    "### 2a)Observations:\n",
    "- **From the above Inspections we can see that our data size is 2045x11. And we have 196 uniques Post Ids and 2045 unique Reply IDs. What's interesting to see here is that we've 38 null values in the Reply Texts but their replyId is present. It might be possible that the user would have deleted their comments later and we're only left with those reply Ids and no text. I'll delete the rows with NULL reply text in my cleaning phase as they won't help us with our analysis.**  "
   ]
  },
  {
   "cell_type": "markdown",
   "id": "39b26157",
   "metadata": {},
   "source": [
    "- **Another thing to note here is that we have many hashtags as well as numerical values in our post texts as well as reply text. We'll have to remove them in the cleaning phase to make the analysis better.**   "
   ]
  },
  {
   "cell_type": "markdown",
   "id": "f0d81347",
   "metadata": {},
   "source": [
    "- **Also, we have some additinal account data such as 'Dan Diamond', 'Post Sports ', etc. we'll have to remove them as well in the cleaning phase so that we don't add any noise in our analysis.**"
   ]
  },
  {
   "cell_type": "markdown",
   "id": "f0d2b3fd",
   "metadata": {},
   "source": [
    "### 2b) Clean: Write code to clean the data. Along with the code, you need to write the rationale behind the cleaning process, i.e., what are you observing after the first level of cleaning, what is still messy and needs additional cleaning, how are you deciding to do it, etc. At this stage, your cleaning should at least comprise: (1) common data cleaning steps, and (2) dealing with messy Youtube/Bluesky data."
   ]
  },
  {
   "cell_type": "markdown",
   "id": "f808de53",
   "metadata": {},
   "source": [
    "**Dropping the rows with null values**"
   ]
  },
  {
   "cell_type": "code",
   "execution_count": 11,
   "id": "0052e7b4",
   "metadata": {},
   "outputs": [],
   "source": [
    "#dropping the rows with null values\n",
    "df = df.dropna()"
   ]
  },
  {
   "cell_type": "markdown",
   "id": "8986e8b8",
   "metadata": {},
   "source": [
    "**Dropping the row with different account name than The Washington Post and The New York Times**"
   ]
  },
  {
   "cell_type": "code",
   "execution_count": 12,
   "id": "46e09638",
   "metadata": {},
   "outputs": [
    {
     "data": {
      "text/plain": [
       "array(['The Washington Post', 'The New York Times'], dtype=object)"
      ]
     },
     "execution_count": 12,
     "metadata": {},
     "output_type": "execute_result"
    }
   ],
   "source": [
    "#since we had additinal account names, creating a list of unwanted accounts to be droppped\n",
    "unwanted_accounts = [\"Dan Diamond\", \"Charlie Savage\", \"Post Sports \", \"Karen Yourish\"]\n",
    "\n",
    "#dropping rows with unwanted AccountName values\n",
    "df = df.drop(df[df['AccountName'].isin(unwanted_accounts)].index)\n",
    "\n",
    "#checking if data is now clean\n",
    "df['AccountName'].unique()"
   ]
  },
  {
   "cell_type": "code",
   "execution_count": 13,
   "id": "8c674d2b",
   "metadata": {},
   "outputs": [
    {
     "data": {
      "text/plain": [
       "(1967, 11)"
      ]
     },
     "execution_count": 13,
     "metadata": {},
     "output_type": "execute_result"
    }
   ],
   "source": [
    "#checking the final count of our data \n",
    "df.shape"
   ]
  },
  {
   "cell_type": "markdown",
   "id": "36ee7d17",
   "metadata": {},
   "source": [
    "**Removing the Urls from both ReplyText and PostText**"
   ]
  },
  {
   "cell_type": "code",
   "execution_count": 14,
   "id": "7d683e02",
   "metadata": {},
   "outputs": [
    {
     "name": "stdout",
     "output_type": "stream",
     "text": [
      "Maybe you shouldn't have built your entire political identity around simping Trump then 🤷‍♂️\n",
      "\n",
      "www.youtube.com/watch?v=z1YP...\n"
     ]
    }
   ],
   "source": [
    "#to check if the urls is being removed from out function\n",
    "print(df[\"ReplyText\"][56])"
   ]
  },
  {
   "cell_type": "code",
   "execution_count": 15,
   "id": "059d767f",
   "metadata": {},
   "outputs": [],
   "source": [
    "#making a function to replace the urls present in the string with \"\" \n",
    "#(Reference: https://www.geeksforgeeks.org/remove-urls-from-string-in-python/)\n",
    "def remove_urls_search(text, replacement_text=\"\"):\n",
    "    url_pattern = re.compile(r'https?://\\S+|www\\.\\S+|(\\S+\\.com\\S*)')\n",
    " \n",
    "    while True:\n",
    "        match = url_pattern.search(text)\n",
    "        if not match:\n",
    "            break\n",
    "        text = text[:match.start()] + replacement_text + text[match.end():]\n",
    " \n",
    "    return text"
   ]
  },
  {
   "cell_type": "code",
   "execution_count": 16,
   "id": "2182c2fe",
   "metadata": {},
   "outputs": [],
   "source": [
    "#applying the function to the ReplyText column\n",
    "df[\"ReplyText\"] = df[\"ReplyText\"].apply(remove_urls_search)"
   ]
  },
  {
   "cell_type": "code",
   "execution_count": 17,
   "id": "d68285a3",
   "metadata": {},
   "outputs": [
    {
     "name": "stdout",
     "output_type": "stream",
     "text": [
      "Maybe you shouldn't have built your entire political identity around simping Trump then 🤷‍♂️\n",
      "\n",
      "\n"
     ]
    }
   ],
   "source": [
    "#printing to check if url has been removed\n",
    "print(df[\"ReplyText\"][56])"
   ]
  },
  {
   "cell_type": "code",
   "execution_count": 18,
   "id": "3141c3e7",
   "metadata": {},
   "outputs": [],
   "source": [
    "#applying the same function to PostText as well now to remove URLs from that column\n",
    "df[\"PostText\"] = df[\"PostText\"].apply(remove_urls_search)"
   ]
  },
  {
   "cell_type": "markdown",
   "id": "b6f04f76",
   "metadata": {},
   "source": [
    "**Removing Punctuations and Special characters from ReplyText and Post Text**"
   ]
  },
  {
   "cell_type": "code",
   "execution_count": 19,
   "id": "15f71c49",
   "metadata": {},
   "outputs": [
    {
     "name": "stdout",
     "output_type": "stream",
     "text": [
      "Maybe you shouldn't have built your entire political identity around simping Trump then 🤷‍♂️\n",
      "\n",
      "\n"
     ]
    }
   ],
   "source": [
    "#example to check if the punct and spec character are being removed from out function\n",
    "print(df[\"ReplyText\"][56])"
   ]
  },
  {
   "cell_type": "code",
   "execution_count": 20,
   "id": "5c5d19b4",
   "metadata": {},
   "outputs": [
    {
     "name": "stdout",
     "output_type": "stream",
     "text": [
      "Maybe you shouldnt have built your entire political identity around simping Trump then \n",
      "\n",
      "\n"
     ]
    }
   ],
   "source": [
    "#using regex to remove punct and special character from both ReplyText and PostText\n",
    "# Reference : https://www.geeksforgeeks.org/python-remove-punctuation-from-string/\n",
    "df.PostText = df.PostText.replace('[^\\w\\s+]', '', regex=True)\n",
    "df.ReplyText = df.ReplyText.replace('[^\\w\\s+]', '', regex=True)\n",
    "#printing to check if special characters have been removed\n",
    "print(df[\"ReplyText\"][56])"
   ]
  },
  {
   "cell_type": "markdown",
   "id": "329bcc24",
   "metadata": {},
   "source": [
    "**Removing Numeric Digits from ReplyText and PostText**"
   ]
  },
  {
   "cell_type": "code",
   "execution_count": 21,
   "id": "cd8915fc",
   "metadata": {},
   "outputs": [
    {
     "name": "stdout",
     "output_type": "stream",
     "text": [
      "So the input from the 49 other states doesnt matter\n",
      "Stop the count early\n"
     ]
    }
   ],
   "source": [
    "#example to check if the numeric digits are being removed from out function\n",
    "print(df[\"ReplyText\"][88])"
   ]
  },
  {
   "cell_type": "code",
   "execution_count": 22,
   "id": "741c89b0",
   "metadata": {},
   "outputs": [
    {
     "name": "stdout",
     "output_type": "stream",
     "text": [
      "So the input from the  other states doesnt matter\n",
      "Stop the count early\n"
     ]
    }
   ],
   "source": [
    "#using regex to remove numeric digits from both ReplyText and PostText\n",
    "# Reference : https://www.geeksforgeeks.org/python-ways-to-remove-numeric-digits-from-given-string/\n",
    "df.PostText = df.PostText.replace('\\d', '', regex=True)\n",
    "df.ReplyText = df.ReplyText.replace('\\d', '', regex=True)\n",
    "#printing to check if numeric digits have been removed\n",
    "print(df[\"ReplyText\"][88])"
   ]
  },
  {
   "cell_type": "markdown",
   "id": "c8b47c1f",
   "metadata": {},
   "source": [
    "**Making everything lowercase now** "
   ]
  },
  {
   "cell_type": "code",
   "execution_count": 23,
   "id": "5ce6647e",
   "metadata": {},
   "outputs": [
    {
     "name": "stdout",
     "output_type": "stream",
     "text": [
      "so the input from the  other states doesnt matter\n",
      "stop the count early\n"
     ]
    }
   ],
   "source": [
    "#Finally making everything lowercase\n",
    "df.PostText = df.PostText.str.lower()\n",
    "df.ReplyText = df.ReplyText.str.lower()\n",
    "#checking the example to see if everything is finnaly lowercase or not\n",
    "print(df[\"ReplyText\"][88])"
   ]
  },
  {
   "cell_type": "markdown",
   "id": "08d784d2",
   "metadata": {},
   "source": [
    "**Removing the stopwords from ReplyText and PostText**"
   ]
  },
  {
   "cell_type": "code",
   "execution_count": 24,
   "id": "520d63ec",
   "metadata": {},
   "outputs": [],
   "source": [
    "#reusing the code from lab to remove the stopwords\n",
    "#getting all the stopwords\n",
    "stopeng = set(stopwords.words('english'))\n",
    "def remove_stops(row):\n",
    "    words = row.split()  \n",
    "    filter_words = [x for x in words if x not in stopeng]\n",
    "    return ' '.join(filter_words)\n",
    "#applyting the function to both ReplyText and PostText\n",
    "df[\"ReplyText\"] = df[\"ReplyText\"].apply(remove_stops)\n",
    "df[\"PostText\"] = df[\"PostText\"].apply(remove_stops)"
   ]
  },
  {
   "cell_type": "code",
   "execution_count": 25,
   "id": "21acfce0",
   "metadata": {},
   "outputs": [
    {
     "name": "stdout",
     "output_type": "stream",
     "text": [
      "input states doesnt matter stop count early\n"
     ]
    }
   ],
   "source": [
    "#printing the ReplyText example to check if stop words have been removed\n",
    "print(df[\"ReplyText\"][88])"
   ]
  },
  {
   "cell_type": "markdown",
   "id": "dd894ca5",
   "metadata": {},
   "source": [
    "### 2b) Rationale:\n",
    "- **I've dropped the rows with null values as well as the rows with different AccountName to remove noise from our data for analysis**\n",
    "- **We can also see from the examples above that urls have been removed as it is of no use for sentiment Analysis**\n",
    "- **I've also removed all the punctuations, special characters as well as the numeric digits as it would have also not served any purpose for sentiment analysis**\n",
    "- **I've also changed the whole string to lowercase as it would help us later with sentiment analysis by matching the token that we'll later create with different dictionaries**\n",
    "- **I've finally removed the stop words from the whole ReplyText and PostText as well as they won't help us predicting the sentiments of the text**"
   ]
  },
  {
   "cell_type": "markdown",
   "id": "7926c8f8",
   "metadata": {},
   "source": [
    "### 2c) Tokenize: Write code to tokenize your entire dataset. Use at least three different types of tokenizers. Display results from all the tokenizers in a pandas dataframe so that you can visually compare them."
   ]
  },
  {
   "cell_type": "markdown",
   "id": "bb944a82",
   "metadata": {},
   "source": [
    "**Creating DFs for storing tokens for both ReplyText and PostText**"
   ]
  },
  {
   "cell_type": "code",
   "execution_count": 26,
   "id": "0acbe6eb",
   "metadata": {},
   "outputs": [],
   "source": [
    "#creating the dfs where we'll store the tokens\n",
    "dfreplyTokenization = pd.DataFrame()\n",
    "dfpostTokenization = pd.DataFrame()"
   ]
  },
  {
   "cell_type": "markdown",
   "id": "b7465af6",
   "metadata": {},
   "source": [
    "**Using three different tokenizers to check which would be the best on both ReplyText and PostText and storing their values in their respective DFs. The three tokenizers that I used are :**\n",
    "- word_tokenize\n",
    "- WordPunctTokenizer, and\n",
    "- sent_tokenize"
   ]
  },
  {
   "cell_type": "code",
   "execution_count": 27,
   "id": "05469d7f",
   "metadata": {},
   "outputs": [],
   "source": [
    "#using the tokenizers and adding them to the new dfreplyTokenization to store all the ReplyText tokens \n",
    "dfreplyTokenization['Reply Text Tokens(word_tokenize)'] = df.ReplyText.apply(word_tokenize)\n",
    "dfreplyTokenization['Reply Text Tokens(wordPunct_tokenize)'] = df.ReplyText.apply(WordPunctTokenizer().tokenize)\n",
    "dfreplyTokenization['Reply Text Tokens(sent_tokenize)'] = df.ReplyText.apply(sent_tokenize)"
   ]
  },
  {
   "cell_type": "code",
   "execution_count": 28,
   "id": "f3ae5d0f",
   "metadata": {},
   "outputs": [],
   "source": [
    "#using the tokenizers and adding them to the new dfpostTokenization to store all the PostText tokens \n",
    "dfpostTokenization['Post Text Tokens(word_tokenize)'] = df.PostText.apply(word_tokenize)\n",
    "dfpostTokenization['Post Text Tokens(wordPunct_tokenize)'] = df.PostText.apply(WordPunctTokenizer().tokenize)\n",
    "dfpostTokenization['Post Text Tokens(sent_tokenize)'] = df.PostText.apply(sent_tokenize)"
   ]
  },
  {
   "cell_type": "markdown",
   "id": "0cfc2d6c",
   "metadata": {},
   "source": [
    "**Checking 5 sample rows for both the dfs**"
   ]
  },
  {
   "cell_type": "code",
   "execution_count": 29,
   "id": "570f1473",
   "metadata": {},
   "outputs": [
    {
     "data": {
      "text/html": [
       "<div>\n",
       "<style scoped>\n",
       "    .dataframe tbody tr th:only-of-type {\n",
       "        vertical-align: middle;\n",
       "    }\n",
       "\n",
       "    .dataframe tbody tr th {\n",
       "        vertical-align: top;\n",
       "    }\n",
       "\n",
       "    .dataframe thead th {\n",
       "        text-align: right;\n",
       "    }\n",
       "</style>\n",
       "<table border=\"1\" class=\"dataframe\">\n",
       "  <thead>\n",
       "    <tr style=\"text-align: right;\">\n",
       "      <th></th>\n",
       "      <th>Reply Text Tokens(word_tokenize)</th>\n",
       "      <th>Reply Text Tokens(wordPunct_tokenize)</th>\n",
       "      <th>Reply Text Tokens(sent_tokenize)</th>\n",
       "    </tr>\n",
       "  </thead>\n",
       "  <tbody>\n",
       "    <tr>\n",
       "      <th>57</th>\n",
       "      <td>[hes, trying, play, sides, fascism, fence, lol]</td>\n",
       "      <td>[hes, trying, play, sides, fascism, fence, lol]</td>\n",
       "      <td>[hes trying play sides fascism fence lol]</td>\n",
       "    </tr>\n",
       "    <tr>\n",
       "      <th>389</th>\n",
       "      <td>[didnt, pardon, mob, thugs, power, would, stic...</td>\n",
       "      <td>[didnt, pardon, mob, thugs, power, would, stic...</td>\n",
       "      <td>[didnt pardon mob thugs power would stick neck...</td>\n",
       "    </tr>\n",
       "    <tr>\n",
       "      <th>971</th>\n",
       "      <td>[literally, dems, like, broke, law, held, acco...</td>\n",
       "      <td>[literally, dems, like, broke, law, held, acco...</td>\n",
       "      <td>[literally dems like broke law held accountabl...</td>\n",
       "    </tr>\n",
       "    <tr>\n",
       "      <th>66</th>\n",
       "      <td>[whats, vow, gop, primary, candidate, worth]</td>\n",
       "      <td>[whats, vow, gop, primary, candidate, worth]</td>\n",
       "      <td>[whats vow gop primary candidate worth]</td>\n",
       "    </tr>\n",
       "    <tr>\n",
       "      <th>582</th>\n",
       "      <td>[probably, longer, keep, clean, depends, durat...</td>\n",
       "      <td>[probably, longer, keep, clean, depends, durat...</td>\n",
       "      <td>[probably longer keep clean depends duration d...</td>\n",
       "    </tr>\n",
       "  </tbody>\n",
       "</table>\n",
       "</div>"
      ],
      "text/plain": [
       "                      Reply Text Tokens(word_tokenize)  \\\n",
       "57     [hes, trying, play, sides, fascism, fence, lol]   \n",
       "389  [didnt, pardon, mob, thugs, power, would, stic...   \n",
       "971  [literally, dems, like, broke, law, held, acco...   \n",
       "66        [whats, vow, gop, primary, candidate, worth]   \n",
       "582  [probably, longer, keep, clean, depends, durat...   \n",
       "\n",
       "                 Reply Text Tokens(wordPunct_tokenize)  \\\n",
       "57     [hes, trying, play, sides, fascism, fence, lol]   \n",
       "389  [didnt, pardon, mob, thugs, power, would, stic...   \n",
       "971  [literally, dems, like, broke, law, held, acco...   \n",
       "66        [whats, vow, gop, primary, candidate, worth]   \n",
       "582  [probably, longer, keep, clean, depends, durat...   \n",
       "\n",
       "                      Reply Text Tokens(sent_tokenize)  \n",
       "57           [hes trying play sides fascism fence lol]  \n",
       "389  [didnt pardon mob thugs power would stick neck...  \n",
       "971  [literally dems like broke law held accountabl...  \n",
       "66             [whats vow gop primary candidate worth]  \n",
       "582  [probably longer keep clean depends duration d...  "
      ]
     },
     "execution_count": 29,
     "metadata": {},
     "output_type": "execute_result"
    }
   ],
   "source": [
    "#checking 5 sample of the ReplyText tokens\n",
    "dfreplyTokenization.sample(5)"
   ]
  },
  {
   "cell_type": "code",
   "execution_count": 30,
   "id": "a791892f",
   "metadata": {},
   "outputs": [
    {
     "data": {
      "text/html": [
       "<div>\n",
       "<style scoped>\n",
       "    .dataframe tbody tr th:only-of-type {\n",
       "        vertical-align: middle;\n",
       "    }\n",
       "\n",
       "    .dataframe tbody tr th {\n",
       "        vertical-align: top;\n",
       "    }\n",
       "\n",
       "    .dataframe thead th {\n",
       "        text-align: right;\n",
       "    }\n",
       "</style>\n",
       "<table border=\"1\" class=\"dataframe\">\n",
       "  <thead>\n",
       "    <tr style=\"text-align: right;\">\n",
       "      <th></th>\n",
       "      <th>Post Text Tokens(word_tokenize)</th>\n",
       "      <th>Post Text Tokens(wordPunct_tokenize)</th>\n",
       "      <th>Post Text Tokens(sent_tokenize)</th>\n",
       "    </tr>\n",
       "  </thead>\n",
       "  <tbody>\n",
       "    <tr>\n",
       "      <th>677</th>\n",
       "      <td>[breaking, news, maine, barred, donald, trump,...</td>\n",
       "      <td>[breaking, news, maine, barred, donald, trump,...</td>\n",
       "      <td>[breaking news maine barred donald trump prima...</td>\n",
       "    </tr>\n",
       "    <tr>\n",
       "      <th>1001</th>\n",
       "      <td>[republicans, signed, officiallooking, paperwo...</td>\n",
       "      <td>[republicans, signed, officiallooking, paperwo...</td>\n",
       "      <td>[republicans signed officiallooking paperwork ...</td>\n",
       "    </tr>\n",
       "    <tr>\n",
       "      <th>1519</th>\n",
       "      <td>[asa, hutchinson, former, governor, arkansas, ...</td>\n",
       "      <td>[asa, hutchinson, former, governor, arkansas, ...</td>\n",
       "      <td>[asa hutchinson former governor arkansas enter...</td>\n",
       "    </tr>\n",
       "    <tr>\n",
       "      <th>1089</th>\n",
       "      <td>[washington, post, review, trumps, clemency, o...</td>\n",
       "      <td>[washington, post, review, trumps, clemency, o...</td>\n",
       "      <td>[washington post review trumps clemency orders...</td>\n",
       "    </tr>\n",
       "    <tr>\n",
       "      <th>1125</th>\n",
       "      <td>[house, voted, expel, rep, george, santos, rny...</td>\n",
       "      <td>[house, voted, expel, rep, george, santos, rny...</td>\n",
       "      <td>[house voted expel rep george santos rny range...</td>\n",
       "    </tr>\n",
       "  </tbody>\n",
       "</table>\n",
       "</div>"
      ],
      "text/plain": [
       "                        Post Text Tokens(word_tokenize)  \\\n",
       "677   [breaking, news, maine, barred, donald, trump,...   \n",
       "1001  [republicans, signed, officiallooking, paperwo...   \n",
       "1519  [asa, hutchinson, former, governor, arkansas, ...   \n",
       "1089  [washington, post, review, trumps, clemency, o...   \n",
       "1125  [house, voted, expel, rep, george, santos, rny...   \n",
       "\n",
       "                   Post Text Tokens(wordPunct_tokenize)  \\\n",
       "677   [breaking, news, maine, barred, donald, trump,...   \n",
       "1001  [republicans, signed, officiallooking, paperwo...   \n",
       "1519  [asa, hutchinson, former, governor, arkansas, ...   \n",
       "1089  [washington, post, review, trumps, clemency, o...   \n",
       "1125  [house, voted, expel, rep, george, santos, rny...   \n",
       "\n",
       "                        Post Text Tokens(sent_tokenize)  \n",
       "677   [breaking news maine barred donald trump prima...  \n",
       "1001  [republicans signed officiallooking paperwork ...  \n",
       "1519  [asa hutchinson former governor arkansas enter...  \n",
       "1089  [washington post review trumps clemency orders...  \n",
       "1125  [house voted expel rep george santos rny range...  "
      ]
     },
     "execution_count": 30,
     "metadata": {},
     "output_type": "execute_result"
    }
   ],
   "source": [
    "#checking 5 sample of the PostText tokens\n",
    "dfpostTokenization.sample(5)"
   ]
  },
  {
   "cell_type": "markdown",
   "id": "2b977a6b",
   "metadata": {},
   "source": [
    "**Checking avg len of tokens for each method for both the dfs**"
   ]
  },
  {
   "cell_type": "code",
   "execution_count": 31,
   "id": "c8e91e89",
   "metadata": {},
   "outputs": [
    {
     "name": "stdout",
     "output_type": "stream",
     "text": [
      "wordPunct: 8.785460091509913\n",
      "word: 8.796644636502288\n",
      "sent: 0.9796644636502287\n"
     ]
    }
   ],
   "source": [
    "#checking the avg len of tokens for each method for Reply tokenization DF\n",
    "print(\"wordPunct:\",dfreplyTokenization['Reply Text Tokens(wordPunct_tokenize)'].apply(len).mean())\n",
    "print(\"word:\",dfreplyTokenization['Reply Text Tokens(word_tokenize)'].apply(len).mean())\n",
    "print(\"sent:\",dfreplyTokenization['Reply Text Tokens(sent_tokenize)'].apply(len).mean())"
   ]
  },
  {
   "cell_type": "code",
   "execution_count": 32,
   "id": "88028d95",
   "metadata": {},
   "outputs": [
    {
     "name": "stdout",
     "output_type": "stream",
     "text": [
      "wordPunct: 22.956786985256738\n",
      "word: 22.9598373157092\n",
      "sent: 1.0\n"
     ]
    }
   ],
   "source": [
    "#similarly, checking the avg len of tokens for each method for Post tokenization DF\n",
    "print(\"wordPunct:\",dfpostTokenization['Post Text Tokens(wordPunct_tokenize)'].apply(len).mean())\n",
    "print(\"word:\",dfpostTokenization['Post Text Tokens(word_tokenize)'].apply(len).mean())\n",
    "print(\"sent:\",dfpostTokenization['Post Text Tokens(sent_tokenize)'].apply(len).mean())"
   ]
  },
  {
   "cell_type": "markdown",
   "id": "7508353b",
   "metadata": {},
   "source": [
    "**From above we can see that avg lenth is different for wordPunct and word tokenizers, so i'm checking what all rows have different length of tokens for word punct and word tokenizers for both Posttext and ReplyText tokens**"
   ]
  },
  {
   "cell_type": "code",
   "execution_count": 33,
   "id": "560dc4ff",
   "metadata": {},
   "outputs": [
    {
     "name": "stdout",
     "output_type": "stream",
     "text": [
      "Row 395\n",
      "Row 396\n",
      "Row 397\n",
      "Row 398\n",
      "Row 399\n",
      "Row 400\n"
     ]
    }
   ],
   "source": [
    "#checking the indices where number of tokens are different for workPunct and word tokenizers\n",
    "#Reference : https://www.geeksforgeeks.org/pandas-dataframe-iterrows/\n",
    "for i, row in dfpostTokenization.iterrows():\n",
    "    if len(row[0]) != len(row[1]):\n",
    "        print(\"Row\", i)"
   ]
  },
  {
   "cell_type": "code",
   "execution_count": 34,
   "id": "c4c1b3fa",
   "metadata": {},
   "outputs": [
    {
     "name": "stdout",
     "output_type": "stream",
     "text": [
      "Row 12\n",
      "Row 32\n",
      "Row 126\n",
      "Row 140\n",
      "Row 173\n",
      "Row 248\n",
      "Row 377\n",
      "Row 510\n",
      "Row 580\n",
      "Row 627\n",
      "Row 765\n",
      "Row 948\n",
      "Row 979\n",
      "Row 1152\n",
      "Row 1173\n",
      "Row 1301\n",
      "Row 1420\n",
      "Row 1480\n",
      "Row 1544\n",
      "Row 1662\n",
      "Row 1711\n",
      "Row 1728\n",
      "Row 1767\n",
      "Row 1769\n"
     ]
    }
   ],
   "source": [
    "#checking the indices where number of tokens are different for workPunct and word tokenizers\n",
    "#Reference : https://www.geeksforgeeks.org/pandas-dataframe-iterrows/\n",
    "for i, row in dfreplyTokenization.iterrows():\n",
    "    if len(row[0]) != len(row[1]):\n",
    "        print(\"Row\", i)"
   ]
  },
  {
   "cell_type": "markdown",
   "id": "3e248a28",
   "metadata": {},
   "source": [
    "**Checking what are the differences in wordPunct and word tokenizers tokens with a few examples that i'm taking from the indices that I fetched above**"
   ]
  },
  {
   "cell_type": "code",
   "execution_count": 35,
   "id": "d61cd19c",
   "metadata": {},
   "outputs": [
    {
     "data": {
      "text/plain": [
       "Reply Text Tokens(word_tokenize)         [gon, na, blow, hunters, chance, reelection]\n",
       "Reply Text Tokens(wordPunct_tokenize)      [gonna, blow, hunters, chance, reelection]\n",
       "Reply Text Tokens(sent_tokenize)               [gonna blow hunters chance reelection]\n",
       "Name: 248, dtype: object"
      ]
     },
     "execution_count": 35,
     "metadata": {},
     "output_type": "execute_result"
    }
   ],
   "source": [
    "#checking the differences between tokens from the indices that we got above\n",
    "pd.set_option('display.max_colwidth', 1000)\n",
    "dfreplyTokenization.iloc[243,:]"
   ]
  },
  {
   "cell_type": "code",
   "execution_count": 36,
   "id": "e6493d52",
   "metadata": {},
   "outputs": [
    {
     "data": {
      "text/plain": [
       "Reply Text Tokens(word_tokenize)         [can, not, jump, federal, appeals, courts, go, directly, supreme, court, stupid, move, jack, maybe, filed, case, much, sooner]\n",
       "Reply Text Tokens(wordPunct_tokenize)      [cannot, jump, federal, appeals, courts, go, directly, supreme, court, stupid, move, jack, maybe, filed, case, much, sooner]\n",
       "Reply Text Tokens(sent_tokenize)                           [cannot jump federal appeals courts go directly supreme court stupid move jack maybe filed case much sooner]\n",
       "Name: 765, dtype: object"
      ]
     },
     "execution_count": 36,
     "metadata": {},
     "output_type": "execute_result"
    }
   ],
   "source": [
    "#checking the differences between tokens from the indices that we got above\n",
    "pd.set_option('display.max_colwidth', 1000)\n",
    "dfreplyTokenization.iloc[729,:]"
   ]
  },
  {
   "cell_type": "code",
   "execution_count": 37,
   "id": "f3ffca72",
   "metadata": {},
   "outputs": [
    {
     "data": {
      "text/plain": [
       "Reply Text Tokens(word_tokenize)         [israel, hurry, got, ta, kill, us, let, help]\n",
       "Reply Text Tokens(wordPunct_tokenize)      [israel, hurry, gotta, kill, us, let, help]\n",
       "Reply Text Tokens(sent_tokenize)                 [israel hurry gotta kill us let help]\n",
       "Name: 948, dtype: object"
      ]
     },
     "execution_count": 37,
     "metadata": {},
     "output_type": "execute_result"
    }
   ],
   "source": [
    "#checking the differences between tokens from the indices that we got above\n",
    "pd.set_option('display.max_colwidth', 1000)\n",
    "dfreplyTokenization.iloc[907,:]"
   ]
  },
  {
   "cell_type": "markdown",
   "id": "5b544c0f",
   "metadata": {},
   "source": [
    "**From the above examples we can see that word tokenizer is making two tokens for words like cannot(can and not), gonna(gon and na) and gotta(got and ta) which will eventually change the meaning of words and is making some meaningless tokens as well such as 'ta'. Whereas WordPunct tokenizer is keeping them as is. Also with sentence tokenizer, we're getting only 1 token of the entire text as we've removed all the punctuations so that will hinder the performence of our sentiment analysis.** "
   ]
  },
  {
   "cell_type": "markdown",
   "id": "eb368541",
   "metadata": {},
   "source": [
    "### Based on the above, I believe that WordPunct tokenizer will work best for us in this case as it is keeping the meaning of words like cannot, gonna and gotta intact as it is compared to word tokenizer. Also with no punctuations, sentance tokenizers will not be able to perform bettern with sentiment analysis but with WordPunct, we can analyse the sentiments of each word token seperately."
   ]
  },
  {
   "cell_type": "markdown",
   "id": "ba830cdb",
   "metadata": {},
   "source": [
    "### Q3 - Analyze Data for Sentiment"
   ]
  },
  {
   "cell_type": "markdown",
   "id": "96dfcd85",
   "metadata": {},
   "source": [
    "### 3a) Sentiment analysis: Pick at least three different ways of conducting sentiment analysis. Write code to loop through your data and find sentiment for each comment, using each of these methods. Report your observations: What do you observe? Are there any similarities or differences across the methods? In the next question, we will quantify these comparisons."
   ]
  },
  {
   "cell_type": "markdown",
   "id": "342f8061",
   "metadata": {},
   "source": [
    "**I tried doing the sentiment analysis of my tokens but the results were not accurate. Upon reseasrching more about it I found out that lemmatization can help with the accuracy.So, we'll do lemmatization of the tokens to bring the tokens to their base or root words as sentiment analysis will be more accurate after that**"
   ]
  },
  {
   "cell_type": "code",
   "execution_count": 38,
   "id": "c8697e00",
   "metadata": {},
   "outputs": [],
   "source": [
    "#making a new df to store the best RepltText Tokens\n",
    "BestToken = pd.DataFrame()"
   ]
  },
  {
   "cell_type": "code",
   "execution_count": 39,
   "id": "a87ebc17",
   "metadata": {},
   "outputs": [],
   "source": [
    "#storing the wordPunct Tokens for ResplyText\n",
    "BestToken['Reply Text Tokens'] = dfreplyTokenization['Reply Text Tokens(wordPunct_tokenize)']"
   ]
  },
  {
   "cell_type": "code",
   "execution_count": 40,
   "id": "6fe0502c",
   "metadata": {},
   "outputs": [
    {
     "data": {
      "text/plain": [
       "['warning',\n",
       " 'thing',\n",
       " 'wanting',\n",
       " 'telling',\n",
       " 'everyone',\n",
       " 'going',\n",
       " 'last',\n",
       " 'three',\n",
       " 'years',\n",
       " 'warning',\n",
       " 'danger']"
      ]
     },
     "execution_count": 40,
     "metadata": {},
     "output_type": "execute_result"
    }
   ],
   "source": [
    "#taking an example to check it later after lemmatization\n",
    "BestToken['Reply Text Tokens'][50]"
   ]
  },
  {
   "cell_type": "code",
   "execution_count": 41,
   "id": "9befbb1c",
   "metadata": {},
   "outputs": [],
   "source": [
    "#using spacy lemmatizer to lemmatize my tokens \n",
    "#Reference: https://www.geeksforgeeks.org/python-lemmatization-with-nltk/\n",
    "nlp = spacy.load('en_core_web_sm') \n",
    "def token_lemmatization(row):\n",
    "    doc = nlp(' '.join(row))\n",
    "    lemmatized_tokens = [token.lemma_ for token in doc]\n",
    "    return lemmatized_tokens\n",
    "\n",
    "BestToken['Reply Text Tokens'] = BestToken['Reply Text Tokens'].apply(token_lemmatization)"
   ]
  },
  {
   "cell_type": "code",
   "execution_count": 42,
   "id": "4bad2dcb",
   "metadata": {},
   "outputs": [
    {
     "data": {
      "text/plain": [
       "['warn',\n",
       " 'thing',\n",
       " 'want',\n",
       " 'tell',\n",
       " 'everyone',\n",
       " 'go',\n",
       " 'last',\n",
       " 'three',\n",
       " 'year',\n",
       " 'warn',\n",
       " 'danger']"
      ]
     },
     "execution_count": 42,
     "metadata": {},
     "output_type": "execute_result"
    }
   ],
   "source": [
    "#checking if lemmatization worked\n",
    "BestToken['Reply Text Tokens'][50]"
   ]
  },
  {
   "cell_type": "markdown",
   "id": "0d47daeb",
   "metadata": {},
   "source": [
    "### Now for sentiment analysis, i'll take opinion lexicon, text_blob and vader"
   ]
  },
  {
   "cell_type": "markdown",
   "id": "d7a2ccd8",
   "metadata": {},
   "source": [
    "**1st: Opinion lexicon**"
   ]
  },
  {
   "cell_type": "markdown",
   "id": "89f716b9",
   "metadata": {},
   "source": [
    "If postive lex > negative lex then positive  \n",
    "\n",
    "If negative lex > positive lex then positive  \n",
    "\n",
    "If both equal then neutral"
   ]
  },
  {
   "cell_type": "code",
   "execution_count": 43,
   "id": "525e4ed3",
   "metadata": {},
   "outputs": [],
   "source": [
    "#creating a function to check if ReplyText is positive, negative or neutral using opinion_lexicon corpus\n",
    "def opinion_lex(token):\n",
    "    pos = 0\n",
    "    neg = 0\n",
    "    for lex in [token]:\n",
    "        for word in lex:\n",
    "            if word in opinion_lexicon.positive():\n",
    "                pos = +1\n",
    "            elif word in opinion_lexicon.negative():\n",
    "                neg = +1\n",
    "            else:\n",
    "                continue\n",
    "    if pos > neg :\n",
    "        return 1\n",
    "    elif neg > pos :\n",
    "        return -1\n",
    "    else:\n",
    "        return 0          "
   ]
  },
  {
   "cell_type": "code",
   "execution_count": 44,
   "id": "005a9101",
   "metadata": {},
   "outputs": [],
   "source": [
    "#applying the above function to Reply Text Tokens\n",
    "BestToken['Opinion Lexicon'] = BestToken['Reply Text Tokens'].apply(opinion_lex)"
   ]
  },
  {
   "cell_type": "code",
   "execution_count": 45,
   "id": "647b3bb6",
   "metadata": {},
   "outputs": [
    {
     "data": {
      "text/plain": [
       "Opinion Lexicon\n",
       " 0    1067\n",
       "-1     526\n",
       " 1     374\n",
       "Name: count, dtype: int64"
      ]
     },
     "execution_count": 45,
     "metadata": {},
     "output_type": "execute_result"
    }
   ],
   "source": [
    "#checking the value counts of each sentiment\n",
    "BestToken['Opinion Lexicon'].value_counts() "
   ]
  },
  {
   "cell_type": "markdown",
   "id": "565a8067",
   "metadata": {},
   "source": [
    "**2nd: Vader**"
   ]
  },
  {
   "cell_type": "markdown",
   "id": "5506d9cd",
   "metadata": {},
   "source": [
    "Positive sentiment: compound score >= 0.05  \n",
    "\n",
    "Neutral sentiment: -0.05 < compound score < 0.05   \n",
    "\n",
    "Negative sentiment: compound score <= -0.05"
   ]
  },
  {
   "cell_type": "code",
   "execution_count": 46,
   "id": "be992fd8",
   "metadata": {},
   "outputs": [],
   "source": [
    "#creating a function to check if ReplyText is positive, negative or neutral using VADER\n",
    "analyzer = SentimentIntensityAnalyzer()\n",
    "def vader_score(token):\n",
    "    text = ' '.join(token)\n",
    "    x = analyzer.polarity_scores(text)\n",
    "    if x['compound'] >= 0.05:\n",
    "        return 1\n",
    "    elif x['compound'] <= -0.05:\n",
    "        return -1\n",
    "    else:\n",
    "        return 0   "
   ]
  },
  {
   "cell_type": "code",
   "execution_count": 47,
   "id": "73efc38d",
   "metadata": {},
   "outputs": [],
   "source": [
    "#applying the above function to Reply Text Tokens\n",
    "BestToken['Vader'] = BestToken['Reply Text Tokens'].apply(vader_score)"
   ]
  },
  {
   "cell_type": "code",
   "execution_count": 48,
   "id": "3b746aa6",
   "metadata": {},
   "outputs": [
    {
     "data": {
      "text/plain": [
       "Vader\n",
       "-1    765\n",
       " 1    655\n",
       " 0    547\n",
       "Name: count, dtype: int64"
      ]
     },
     "execution_count": 48,
     "metadata": {},
     "output_type": "execute_result"
    }
   ],
   "source": [
    "#checking the value counts of each sentiment\n",
    "BestToken['Vader'].value_counts() "
   ]
  },
  {
   "cell_type": "markdown",
   "id": "bb8c2712",
   "metadata": {},
   "source": [
    "**3rd: Text_Blob**"
   ]
  },
  {
   "cell_type": "markdown",
   "id": "1adbc85d",
   "metadata": {},
   "source": [
    "Positive sentiment: polarity score > 0  \n",
    "\n",
    "Neutral sentiment: polarity score = 0\n",
    "\n",
    "Negative sentiment: polarity score < 0"
   ]
  },
  {
   "cell_type": "code",
   "execution_count": 49,
   "id": "073e5c53",
   "metadata": {},
   "outputs": [],
   "source": [
    "#creating a function to check if ReplyText is positive, negative or neutral using TextBlob\n",
    "def textblob_score(token):\n",
    "    text = ' '.join(token)\n",
    "    blob = TextBlob(text)\n",
    "    if blob.polarity > 0:\n",
    "        return 1\n",
    "    elif blob.polarity < 0:\n",
    "        return -1\n",
    "    else:\n",
    "        return 0 "
   ]
  },
  {
   "cell_type": "code",
   "execution_count": 50,
   "id": "2417b991",
   "metadata": {},
   "outputs": [],
   "source": [
    "#applying the above function to Reply Text Tokens\n",
    "BestToken['TextBlob'] = BestToken['Reply Text Tokens'].apply(textblob_score)"
   ]
  },
  {
   "cell_type": "code",
   "execution_count": 51,
   "id": "4675405a",
   "metadata": {},
   "outputs": [
    {
     "data": {
      "text/plain": [
       "TextBlob\n",
       " 0    813\n",
       " 1    634\n",
       "-1    520\n",
       "Name: count, dtype: int64"
      ]
     },
     "execution_count": 51,
     "metadata": {},
     "output_type": "execute_result"
    }
   ],
   "source": [
    "#checking the value counts of each sentiment\n",
    "BestToken['TextBlob'].value_counts() "
   ]
  },
  {
   "cell_type": "code",
   "execution_count": 52,
   "id": "ed51a90f",
   "metadata": {},
   "outputs": [
    {
     "data": {
      "text/html": [
       "<div>\n",
       "<style scoped>\n",
       "    .dataframe tbody tr th:only-of-type {\n",
       "        vertical-align: middle;\n",
       "    }\n",
       "\n",
       "    .dataframe tbody tr th {\n",
       "        vertical-align: top;\n",
       "    }\n",
       "\n",
       "    .dataframe thead th {\n",
       "        text-align: right;\n",
       "    }\n",
       "</style>\n",
       "<table border=\"1\" class=\"dataframe\">\n",
       "  <thead>\n",
       "    <tr style=\"text-align: right;\">\n",
       "      <th></th>\n",
       "      <th>Reply Text Tokens</th>\n",
       "      <th>Opinion Lexicon</th>\n",
       "      <th>Vader</th>\n",
       "      <th>TextBlob</th>\n",
       "    </tr>\n",
       "  </thead>\n",
       "  <tbody>\n",
       "    <tr>\n",
       "      <th>1981</th>\n",
       "      <td>[much, hate, need, europe]</td>\n",
       "      <td>-1</td>\n",
       "      <td>-1</td>\n",
       "      <td>-1</td>\n",
       "    </tr>\n",
       "    <tr>\n",
       "      <th>2041</th>\n",
       "      <td>[nothing, much, decide, constitution, forbid, anyone, engage, insurrection, hold, public, office, remains, see, whether, originalist, convenient, faction, scotus, decide, circumvent, constitution]</td>\n",
       "      <td>0</td>\n",
       "      <td>0</td>\n",
       "      <td>1</td>\n",
       "    </tr>\n",
       "    <tr>\n",
       "      <th>1590</th>\n",
       "      <td>[nice, see, feel, confident, enough, fully, display, neck, vag]</td>\n",
       "      <td>1</td>\n",
       "      <td>1</td>\n",
       "      <td>1</td>\n",
       "    </tr>\n",
       "    <tr>\n",
       "      <th>954</th>\n",
       "      <td>[come, increase, minimum, wage, parliamentarian, allpowerful, filibuster, allpowerful, come, voting, right, pay, family, leave, child, tax, credit, voting, right, sudden, biden, power, bypass, congress]</td>\n",
       "      <td>1</td>\n",
       "      <td>1</td>\n",
       "      <td>1</td>\n",
       "    </tr>\n",
       "    <tr>\n",
       "      <th>1488</th>\n",
       "      <td>[mean, boost, putin, defy, biden]</td>\n",
       "      <td>0</td>\n",
       "      <td>1</td>\n",
       "      <td>-1</td>\n",
       "    </tr>\n",
       "    <tr>\n",
       "      <th>1763</th>\n",
       "      <td>[even, plan]</td>\n",
       "      <td>0</td>\n",
       "      <td>0</td>\n",
       "      <td>0</td>\n",
       "    </tr>\n",
       "    <tr>\n",
       "      <th>789</th>\n",
       "      <td>[heart, fire, heart]</td>\n",
       "      <td>0</td>\n",
       "      <td>1</td>\n",
       "      <td>0</td>\n",
       "    </tr>\n",
       "    <tr>\n",
       "      <th>648</th>\n",
       "      <td>[gulf, states, control, fascist, expect, president, biden, come, bullshit, wow, fox, washington, post, begin]</td>\n",
       "      <td>0</td>\n",
       "      <td>-1</td>\n",
       "      <td>1</td>\n",
       "    </tr>\n",
       "    <tr>\n",
       "      <th>240</th>\n",
       "      <td>[less, trial, guy, run, president, hunter, be, not, ballot]</td>\n",
       "      <td>0</td>\n",
       "      <td>0</td>\n",
       "      <td>-1</td>\n",
       "    </tr>\n",
       "    <tr>\n",
       "      <th>422</th>\n",
       "      <td>[maybe, could, elemental, factcheck, assumptionsyour, constant, inflationinflationinflation, economic, reporting, drumbeat, outdated, year]</td>\n",
       "      <td>0</td>\n",
       "      <td>0</td>\n",
       "      <td>-1</td>\n",
       "    </tr>\n",
       "  </tbody>\n",
       "</table>\n",
       "</div>"
      ],
      "text/plain": [
       "                                                                                                                                                                                               Reply Text Tokens  \\\n",
       "1981                                                                                                                                                                                  [much, hate, need, europe]   \n",
       "2041        [nothing, much, decide, constitution, forbid, anyone, engage, insurrection, hold, public, office, remains, see, whether, originalist, convenient, faction, scotus, decide, circumvent, constitution]   \n",
       "1590                                                                                                                                             [nice, see, feel, confident, enough, fully, display, neck, vag]   \n",
       "954   [come, increase, minimum, wage, parliamentarian, allpowerful, filibuster, allpowerful, come, voting, right, pay, family, leave, child, tax, credit, voting, right, sudden, biden, power, bypass, congress]   \n",
       "1488                                                                                                                                                                           [mean, boost, putin, defy, biden]   \n",
       "1763                                                                                                                                                                                                [even, plan]   \n",
       "789                                                                                                                                                                                         [heart, fire, heart]   \n",
       "648                                                                                                [gulf, states, control, fascist, expect, president, biden, come, bullshit, wow, fox, washington, post, begin]   \n",
       "240                                                                                                                                                  [less, trial, guy, run, president, hunter, be, not, ballot]   \n",
       "422                                                                  [maybe, could, elemental, factcheck, assumptionsyour, constant, inflationinflationinflation, economic, reporting, drumbeat, outdated, year]   \n",
       "\n",
       "      Opinion Lexicon  Vader  TextBlob  \n",
       "1981               -1     -1        -1  \n",
       "2041                0      0         1  \n",
       "1590                1      1         1  \n",
       "954                 1      1         1  \n",
       "1488                0      1        -1  \n",
       "1763                0      0         0  \n",
       "789                 0      1         0  \n",
       "648                 0     -1         1  \n",
       "240                 0      0        -1  \n",
       "422                 0      0        -1  "
      ]
     },
     "execution_count": 52,
     "metadata": {},
     "output_type": "execute_result"
    }
   ],
   "source": [
    "#checking 10 sample to see the results of our sentiment analysis\n",
    "BestToken.sample(10)"
   ]
  },
  {
   "cell_type": "markdown",
   "id": "2e468b79",
   "metadata": {},
   "source": [
    "**We can see from above that there are some similarities with the neutral sentiments but the rest of them varies across the three types of analysis**"
   ]
  },
  {
   "cell_type": "code",
   "execution_count": 53,
   "id": "3974f9d1",
   "metadata": {},
   "outputs": [
    {
     "name": "stdout",
     "output_type": "stream",
     "text": [
      "Opinion Lexicon\n",
      " 0    1067\n",
      "-1     526\n",
      " 1     374\n",
      "Name: count, dtype: int64\n",
      "Vader\n",
      "-1    765\n",
      " 1    655\n",
      " 0    547\n",
      "Name: count, dtype: int64\n",
      "TextBlob\n",
      " 0    813\n",
      " 1    634\n",
      "-1    520\n",
      "Name: count, dtype: int64\n"
     ]
    }
   ],
   "source": [
    "#checking the value counts for comparision between the three methods\n",
    "print(BestToken['Opinion Lexicon'].value_counts()) \n",
    "print(BestToken['Vader'].value_counts()) \n",
    "print(BestToken['TextBlob'].value_counts()) "
   ]
  },
  {
   "cell_type": "markdown",
   "id": "a27bb80e",
   "metadata": {},
   "source": [
    "**We can also see that Opinion Lexicon and TextBlob has mostly identified the Text Tokens as neutral whereas Vader identified most Reply Text Tokens as negative**"
   ]
  },
  {
   "cell_type": "markdown",
   "id": "93d74d93",
   "metadata": {},
   "source": [
    "### 3b) Quantitatively comparing methods: Is there a way to do a pairwise comparison of the methods that you picked? You need to report at least one pairwise comparison between the methods. Better if you are able to report all pairwise comparisons across all methods. In your pairwise comparison, compute a quantitative measure to show what proportion of comments match or do not match between two measures. You can also include the rationale behind the choice of your measure."
   ]
  },
  {
   "cell_type": "code",
   "execution_count": 54,
   "id": "1ec6326d",
   "metadata": {},
   "outputs": [
    {
     "name": "stdout",
     "output_type": "stream",
     "text": [
      "Opinion Lexicon vs. VADER: 51.60142348754449 %\n",
      "Opinion Lexicon vs. TextBlob: 48.093543467208946 %\n",
      "VADER vs. TextBlob 57.70208439247585 %\n"
     ]
    }
   ],
   "source": [
    "#comparison between two sentiments one by one\n",
    "lexicon_vader = (BestToken['Opinion Lexicon'] == BestToken['Vader']).mean()\n",
    "lexicon_textblob = (BestToken['Opinion Lexicon'] == BestToken['TextBlob']).mean()\n",
    "vader_textblob = (BestToken['Vader'] == BestToken['TextBlob']).mean()\n",
    "\n",
    "#printing the results\n",
    "print(\"Opinion Lexicon vs. VADER:\", lexicon_vader*100,\"%\")\n",
    "print(\"Opinion Lexicon vs. TextBlob:\", lexicon_textblob*100,\"%\")\n",
    "print(\"VADER vs. TextBlob\", vader_textblob*100,\"%\")"
   ]
  },
  {
   "cell_type": "markdown",
   "id": "2c230aa4",
   "metadata": {},
   "source": [
    "**I've checked the percentage of similarity between two pairs one by one. This can tell how many times the two different kind of sentiment analysis agrees with each other**   \n",
    "\n",
    "**Vader and TextBlob Seems to be the similar to each other with 57.7% similarity percentage whereas Lexicon and Textblob seems to be the least similar with ~48.1%**"
   ]
  },
  {
   "cell_type": "markdown",
   "id": "6608617f",
   "metadata": {},
   "source": [
    "### 3c) Qualitative + Quantitative comparison: Write code to randomly pick 40 comments. By hand, mark each of their sentiments. Now pick two sentiment analysis methods of your choice to automatically find the sentiments of these 40 tweets. Considering your hand labels as the absolute ground truth, write code to determine which sentiment analysis method works better. It might be that both methods you picked do equally well. Provide a rationale for your response in a markdown cell."
   ]
  },
  {
   "cell_type": "code",
   "execution_count": 55,
   "id": "fb8cbbf7",
   "metadata": {},
   "outputs": [],
   "source": [
    "#creating a sample40df to include 40 random samples\n",
    "#sample40df = pd.DataFrame()\n",
    "#sample40df = BestToken.sample(40)"
   ]
  },
  {
   "cell_type": "code",
   "execution_count": 56,
   "id": "47a7a040",
   "metadata": {},
   "outputs": [],
   "source": [
    "#setting a new column where I'll manually input the sentiments\n",
    "#sample40df['Manual'] = None"
   ]
  },
  {
   "cell_type": "code",
   "execution_count": 57,
   "id": "faa4544d",
   "metadata": {},
   "outputs": [],
   "source": [
    "#saving sample40df as csv so that i can manually input the sentiments based on my understanding\n",
    "#sample40df.to_csv('sample.csv', index=False)"
   ]
  },
  {
   "cell_type": "code",
   "execution_count": 58,
   "id": "354f5447",
   "metadata": {},
   "outputs": [
    {
     "data": {
      "text/html": [
       "<div>\n",
       "<style scoped>\n",
       "    .dataframe tbody tr th:only-of-type {\n",
       "        vertical-align: middle;\n",
       "    }\n",
       "\n",
       "    .dataframe tbody tr th {\n",
       "        vertical-align: top;\n",
       "    }\n",
       "\n",
       "    .dataframe thead th {\n",
       "        text-align: right;\n",
       "    }\n",
       "</style>\n",
       "<table border=\"1\" class=\"dataframe\">\n",
       "  <thead>\n",
       "    <tr style=\"text-align: right;\">\n",
       "      <th></th>\n",
       "      <th>Reply Text Tokens</th>\n",
       "      <th>Opinion Lexicon</th>\n",
       "      <th>Vader</th>\n",
       "      <th>TextBlob</th>\n",
       "      <th>Manual</th>\n",
       "    </tr>\n",
       "  </thead>\n",
       "  <tbody>\n",
       "    <tr>\n",
       "      <th>0</th>\n",
       "      <td>['good', 'justice', 'system', 'explain', 'victim', 'get', 'let', 'hear', 'student', 'heckle', 'kyle', 'duncan', 'violation', 'civil', 'right']</td>\n",
       "      <td>0</td>\n",
       "      <td>1</td>\n",
       "      <td>1</td>\n",
       "      <td>0</td>\n",
       "    </tr>\n",
       "    <tr>\n",
       "      <th>1</th>\n",
       "      <td>['rapist', 'lose', 'every', 'court', 'case', 'he', 's', 'pick', 'real', 'winner', 'cult', 'leader', 'republicans']</td>\n",
       "      <td>0</td>\n",
       "      <td>-1</td>\n",
       "      <td>1</td>\n",
       "      <td>-1</td>\n",
       "    </tr>\n",
       "    <tr>\n",
       "      <th>2</th>\n",
       "      <td>['carter', 'sell', 'peanut', 'farm']</td>\n",
       "      <td>0</td>\n",
       "      <td>0</td>\n",
       "      <td>0</td>\n",
       "      <td>0</td>\n",
       "    </tr>\n",
       "    <tr>\n",
       "      <th>3</th>\n",
       "      <td>['justice', 'we', 'much', 'correct', 'brazil', 'even', 'though', 'think', 'otherwise']</td>\n",
       "      <td>1</td>\n",
       "      <td>1</td>\n",
       "      <td>1</td>\n",
       "      <td>1</td>\n",
       "    </tr>\n",
       "    <tr>\n",
       "      <th>4</th>\n",
       "      <td>['historic', 'thing', 'america']</td>\n",
       "      <td>0</td>\n",
       "      <td>0</td>\n",
       "      <td>0</td>\n",
       "      <td>1</td>\n",
       "    </tr>\n",
       "  </tbody>\n",
       "</table>\n",
       "</div>"
      ],
      "text/plain": [
       "                                                                                                                                Reply Text Tokens  \\\n",
       "0  ['good', 'justice', 'system', 'explain', 'victim', 'get', 'let', 'hear', 'student', 'heckle', 'kyle', 'duncan', 'violation', 'civil', 'right']   \n",
       "1                              ['rapist', 'lose', 'every', 'court', 'case', 'he', 's', 'pick', 'real', 'winner', 'cult', 'leader', 'republicans']   \n",
       "2                                                                                                            ['carter', 'sell', 'peanut', 'farm']   \n",
       "3                                                          ['justice', 'we', 'much', 'correct', 'brazil', 'even', 'though', 'think', 'otherwise']   \n",
       "4                                                                                                                ['historic', 'thing', 'america']   \n",
       "\n",
       "   Opinion Lexicon  Vader  TextBlob  Manual  \n",
       "0                0      1         1       0  \n",
       "1                0     -1         1      -1  \n",
       "2                0      0         0       0  \n",
       "3                1      1         1       1  \n",
       "4                0      0         0       1  "
      ]
     },
     "execution_count": 58,
     "metadata": {},
     "output_type": "execute_result"
    }
   ],
   "source": [
    "#reading the csv to a new df sampleDf and printing its head\n",
    "sampleDf = pd.read_csv(\"/Users/dstushi/Downloads/sample - sample.csv\")\n",
    "sampleDf.head()"
   ]
  },
  {
   "cell_type": "code",
   "execution_count": 59,
   "id": "858408ff",
   "metadata": {},
   "outputs": [
    {
     "name": "stdout",
     "output_type": "stream",
     "text": [
      "TextBlob vs Manual: 45.0 %\n",
      "Vader vs Manual: 60.0 %\n"
     ]
    }
   ],
   "source": [
    "#comparing two sentiment analysis method in a similar way i computed the similarity earlier\n",
    "TextBlob_manual = (sampleDf['TextBlob'] == sampleDf['Manual']).mean()\n",
    "vader_manual = (sampleDf['Vader'] == sampleDf['Manual']).mean()\n",
    "#printing the results\n",
    "print(\"TextBlob vs Manual:\",TextBlob_manual*100,\"%\")\n",
    "print(\"Vader vs Manual:\",vader_manual*100,\"%\")"
   ]
  },
  {
   "cell_type": "markdown",
   "id": "5e8c8336",
   "metadata": {},
   "source": [
    "**I've selected Text blob and vader as their comparision amongst themselves came out to be the maximum. Which means they were more accurate than Opinion Lexicon to determine the sentiments of ReplyText Tokens.**  \n",
    "\n",
    "**Amonst these two we can see that Vader was the most similar to our manual inputs of sentiments and therefore Vader was more able to perform sentiment analysis of our ReplyText Token**"
   ]
  },
  {
   "cell_type": "markdown",
   "id": "fc68b37c",
   "metadata": {},
   "source": [
    "### Q4) Analyze Data with LIWC : Pick at least three dimensions from LIWC that you would want to investigate on your data. Write code to find what proportion of each of the two dimensions you picked are present in your data. Motivate your choice of dimension with a research question. For example, if you are curious to know the prevalence of angry comments, you can pick the “angry” dimension in LIWC. Another neat trick here would be to make your code modular via Python functions so that later you can reuse this function for computing across multiple dimensions."
   ]
  },
  {
   "cell_type": "markdown",
   "id": "809c3e37",
   "metadata": {},
   "source": [
    "**For this I created a structured csv from the dictionary given to us, since the dictionary given to us was unstructured**"
   ]
  },
  {
   "cell_type": "code",
   "execution_count": 60,
   "id": "080a4016",
   "metadata": {},
   "outputs": [],
   "source": [
    "#reading the csv to a new df called liwcdict\n",
    "liwcdict = pd.read_csv(\"/Users/dstushi/Downloads/LIWC2015 dictionary poster.csv\")"
   ]
  },
  {
   "cell_type": "code",
   "execution_count": 61,
   "id": "9c3b532a",
   "metadata": {},
   "outputs": [
    {
     "data": {
      "text/html": [
       "<div>\n",
       "<style scoped>\n",
       "    .dataframe tbody tr th:only-of-type {\n",
       "        vertical-align: middle;\n",
       "    }\n",
       "\n",
       "    .dataframe tbody tr th {\n",
       "        vertical-align: top;\n",
       "    }\n",
       "\n",
       "    .dataframe thead th {\n",
       "        text-align: right;\n",
       "    }\n",
       "</style>\n",
       "<table border=\"1\" class=\"dataframe\">\n",
       "  <thead>\n",
       "    <tr style=\"text-align: right;\">\n",
       "      <th></th>\n",
       "      <th>Function</th>\n",
       "      <th>Pronoun</th>\n",
       "      <th>Ppron</th>\n",
       "      <th>I</th>\n",
       "      <th>We</th>\n",
       "      <th>You</th>\n",
       "      <th>SheHe</th>\n",
       "      <th>They</th>\n",
       "      <th>Ipron</th>\n",
       "      <th>Article</th>\n",
       "      <th>...</th>\n",
       "      <th>Home</th>\n",
       "      <th>Money</th>\n",
       "      <th>Relig</th>\n",
       "      <th>Death</th>\n",
       "      <th>Informal</th>\n",
       "      <th>Swear</th>\n",
       "      <th>Netspeak</th>\n",
       "      <th>Assent</th>\n",
       "      <th>Nonflu</th>\n",
       "      <th>Filler</th>\n",
       "    </tr>\n",
       "  </thead>\n",
       "  <tbody>\n",
       "    <tr>\n",
       "      <th>0</th>\n",
       "      <td>a</td>\n",
       "      <td>another</td>\n",
       "      <td>he</td>\n",
       "      <td>i</td>\n",
       "      <td>let's</td>\n",
       "      <td>ily*</td>\n",
       "      <td>he</td>\n",
       "      <td>their*</td>\n",
       "      <td>another</td>\n",
       "      <td>a</td>\n",
       "      <td>...</td>\n",
       "      <td>address</td>\n",
       "      <td>account*</td>\n",
       "      <td>afterlife*</td>\n",
       "      <td>alive</td>\n",
       "      <td>(:</td>\n",
       "      <td>af</td>\n",
       "      <td>(:</td>\n",
       "      <td>absolutely</td>\n",
       "      <td>ah</td>\n",
       "      <td>anyway*</td>\n",
       "    </tr>\n",
       "    <tr>\n",
       "      <th>1</th>\n",
       "      <td>about</td>\n",
       "      <td>anybod*</td>\n",
       "      <td>he'd</td>\n",
       "      <td>i'd</td>\n",
       "      <td>lets</td>\n",
       "      <td>thee</td>\n",
       "      <td>he'd</td>\n",
       "      <td>them</td>\n",
       "      <td>anybod*</td>\n",
       "      <td>an</td>\n",
       "      <td>...</td>\n",
       "      <td>apartment*</td>\n",
       "      <td>accrue*</td>\n",
       "      <td>agnost*</td>\n",
       "      <td>assass*</td>\n",
       "      <td>(;</td>\n",
       "      <td>arse</td>\n",
       "      <td>(;</td>\n",
       "      <td>agree</td>\n",
       "      <td>ahh*</td>\n",
       "      <td>blah</td>\n",
       "    </tr>\n",
       "    <tr>\n",
       "      <th>2</th>\n",
       "      <td>above</td>\n",
       "      <td>anymore</td>\n",
       "      <td>he's</td>\n",
       "      <td>i'd've</td>\n",
       "      <td>our</td>\n",
       "      <td>thine</td>\n",
       "      <td>he's</td>\n",
       "      <td>themself</td>\n",
       "      <td>anymore</td>\n",
       "      <td>the</td>\n",
       "      <td>...</td>\n",
       "      <td>backyard</td>\n",
       "      <td>affordable</td>\n",
       "      <td>alla</td>\n",
       "      <td>autops*</td>\n",
       "      <td>):</td>\n",
       "      <td>arsehole*</td>\n",
       "      <td>):</td>\n",
       "      <td>ah</td>\n",
       "      <td>er</td>\n",
       "      <td>dunno</td>\n",
       "    </tr>\n",
       "    <tr>\n",
       "      <th>3</th>\n",
       "      <td>absolutely</td>\n",
       "      <td>anyone*</td>\n",
       "      <td>her</td>\n",
       "      <td>i'll</td>\n",
       "      <td>ours</td>\n",
       "      <td>thou</td>\n",
       "      <td>her</td>\n",
       "      <td>themselves</td>\n",
       "      <td>anyone*</td>\n",
       "      <td>NaN</td>\n",
       "      <td>...</td>\n",
       "      <td>bake*</td>\n",
       "      <td>atm</td>\n",
       "      <td>allah*</td>\n",
       "      <td>behead*</td>\n",
       "      <td>/:</td>\n",
       "      <td>arses</td>\n",
       "      <td>/:</td>\n",
       "      <td>aight</td>\n",
       "      <td>hm*</td>\n",
       "      <td>idk</td>\n",
       "    </tr>\n",
       "    <tr>\n",
       "      <th>4</th>\n",
       "      <td>abt</td>\n",
       "      <td>anything</td>\n",
       "      <td>hers</td>\n",
       "      <td>i'm</td>\n",
       "      <td>ourselves</td>\n",
       "      <td>thoust</td>\n",
       "      <td>hers</td>\n",
       "      <td>they</td>\n",
       "      <td>anything</td>\n",
       "      <td>NaN</td>\n",
       "      <td>...</td>\n",
       "      <td>baking</td>\n",
       "      <td>atms</td>\n",
       "      <td>altar*</td>\n",
       "      <td>bereave*</td>\n",
       "      <td>4ev*</td>\n",
       "      <td>asf</td>\n",
       "      <td>4ev*</td>\n",
       "      <td>alright*</td>\n",
       "      <td>huh</td>\n",
       "      <td>idontknow</td>\n",
       "    </tr>\n",
       "  </tbody>\n",
       "</table>\n",
       "<p>5 rows × 73 columns</p>\n",
       "</div>"
      ],
      "text/plain": [
       "     Function   Pronoun Ppron       I         We     You SheHe        They  \\\n",
       "0           a   another    he       i      let's    ily*    he      their*   \n",
       "1       about   anybod*  he'd     i'd       lets    thee  he'd        them   \n",
       "2       above   anymore  he's  i'd've        our   thine  he's    themself   \n",
       "3  absolutely   anyone*   her    i'll       ours    thou   her  themselves   \n",
       "4         abt  anything  hers     i'm  ourselves  thoust  hers        they   \n",
       "\n",
       "      Ipron Article  ...        Home       Money       Relig     Death  \\\n",
       "0   another       a  ...     address    account*  afterlife*     alive   \n",
       "1   anybod*      an  ...  apartment*     accrue*     agnost*   assass*   \n",
       "2   anymore     the  ...    backyard  affordable        alla   autops*   \n",
       "3   anyone*     NaN  ...       bake*         atm      allah*   behead*   \n",
       "4  anything     NaN  ...      baking        atms      altar*  bereave*   \n",
       "\n",
       "  Informal      Swear Netspeak      Assent Nonflu     Filler  \n",
       "0       (:         af       (:  absolutely     ah    anyway*  \n",
       "1       (;       arse       (;       agree   ahh*       blah  \n",
       "2       ):  arsehole*       ):          ah     er      dunno  \n",
       "3       /:      arses       /:       aight    hm*        idk  \n",
       "4     4ev*        asf     4ev*    alright*    huh  idontknow  \n",
       "\n",
       "[5 rows x 73 columns]"
      ]
     },
     "execution_count": 61,
     "metadata": {},
     "output_type": "execute_result"
    }
   ],
   "source": [
    "#printing the head of liwcdict df\n",
    "liwcdict.head()"
   ]
  },
  {
   "cell_type": "markdown",
   "id": "3b3adee1",
   "metadata": {},
   "source": [
    "**Checking how many kinds of swearwords do people use out of all the swear words that LIWC dict have**"
   ]
  },
  {
   "cell_type": "markdown",
   "id": "e872b46f",
   "metadata": {},
   "source": [
    "**Created a function where i'm giving it my column and passing the liwc attribute. It then removes the nan or NAN from the liwc column for that attribute and appended that to a list. it then checks that out of those words how many unique words are present in all of our Reply Text tokens. It takes the count of the unique words and divides that by the length of those attribute word in dict. It finally returns the percent of attribute words present in all of our data**"
   ]
  },
  {
   "cell_type": "code",
   "execution_count": 62,
   "id": "90d46ee6",
   "metadata": {},
   "outputs": [],
   "source": [
    "#creating the above explained function\n",
    "def prop(rowx,liwcx):\n",
    "    wordsx = []\n",
    "    for i in liwcdict[liwcx]:\n",
    "        if isinstance(i, str) and (\"NaN\" not in i and \"nan\" not in i):\n",
    "            wordsx.append(i)\n",
    "    \n",
    "    count = 0\n",
    "    unique_words = []\n",
    "\n",
    "    for i in rowx:\n",
    "        for j in i:\n",
    "            if j in wordsx and j not in unique_words:\n",
    "                count += 1\n",
    "                unique_words.append(j)\n",
    "    print(\"Proportion:\",count/len(wordsx)*100,\"%\")"
   ]
  },
  {
   "cell_type": "code",
   "execution_count": 63,
   "id": "bdc2b7c2",
   "metadata": {},
   "outputs": [
    {
     "name": "stdout",
     "output_type": "stream",
     "text": [
      "Proportion: 12.977099236641221 %\n"
     ]
    }
   ],
   "source": [
    "#applying that funtion to check the swear words\n",
    "prop(BestToken['Reply Text Tokens'], 'Swear')"
   ]
  },
  {
   "cell_type": "markdown",
   "id": "94ba3f9e",
   "metadata": {},
   "source": [
    "**Checking what proportion of comments shows positive emotions based on LIWC dict we have?**"
   ]
  },
  {
   "cell_type": "code",
   "execution_count": 64,
   "id": "0b25c217",
   "metadata": {},
   "outputs": [
    {
     "name": "stdout",
     "output_type": "stream",
     "text": [
      "Proportion: 17.992177314211215 %\n"
     ]
    }
   ],
   "source": [
    "#applying that words to check the positive emotions people showed\n",
    "prop(BestToken['Reply Text Tokens'], 'Posemo')"
   ]
  },
  {
   "cell_type": "markdown",
   "id": "2983e947",
   "metadata": {},
   "source": [
    "**Similarly, checking what proportion of comments shows negative emotions based on LIWC dict we have?**"
   ]
  },
  {
   "cell_type": "code",
   "execution_count": 65,
   "id": "596ba729",
   "metadata": {},
   "outputs": [
    {
     "name": "stdout",
     "output_type": "stream",
     "text": [
      "Proportion: 14.516129032258066 %\n"
     ]
    }
   ],
   "source": [
    "#applying that words to check the negative emotions people showed\n",
    "prop(BestToken['Reply Text Tokens'], 'Negemo')"
   ]
  },
  {
   "cell_type": "markdown",
   "id": "e3975c05",
   "metadata": {},
   "source": [
    "### Our results shows that people talk more positively than being negative or swearing"
   ]
  },
  {
   "cell_type": "markdown",
   "id": "9ff80297",
   "metadata": {},
   "source": [
    "### Q5) Analyze Data over time\n",
    "#### How does the polarity (sentiment) of your corpus change over time? Answer this question by showing plots. You need to plot polarity for at least two of your three sentiment analyzers chosen earlier.\n",
    "#### Drawing conclusions from the plots: What do you observe from the plots? Can you draw conclusions from your plots based on how the election campaigns were unfolding in the real world? What else can you infer from the plot?"
   ]
  },
  {
   "cell_type": "code",
   "execution_count": 66,
   "id": "376582bc",
   "metadata": {},
   "outputs": [
    {
     "data": {
      "text/html": [
       "<div>\n",
       "<style scoped>\n",
       "    .dataframe tbody tr th:only-of-type {\n",
       "        vertical-align: middle;\n",
       "    }\n",
       "\n",
       "    .dataframe tbody tr th {\n",
       "        vertical-align: top;\n",
       "    }\n",
       "\n",
       "    .dataframe thead th {\n",
       "        text-align: right;\n",
       "    }\n",
       "</style>\n",
       "<table border=\"1\" class=\"dataframe\">\n",
       "  <thead>\n",
       "    <tr style=\"text-align: right;\">\n",
       "      <th></th>\n",
       "      <th>Reply Text Tokens</th>\n",
       "      <th>Opinion Lexicon</th>\n",
       "      <th>Vader</th>\n",
       "      <th>TextBlob</th>\n",
       "    </tr>\n",
       "  </thead>\n",
       "  <tbody>\n",
       "    <tr>\n",
       "      <th>1541</th>\n",
       "      <td>[rejoice]</td>\n",
       "      <td>1</td>\n",
       "      <td>1</td>\n",
       "      <td>0</td>\n",
       "    </tr>\n",
       "    <tr>\n",
       "      <th>1712</th>\n",
       "      <td>[happy, I, m, liable, responsible, action, adult, child]</td>\n",
       "      <td>0</td>\n",
       "      <td>1</td>\n",
       "      <td>1</td>\n",
       "    </tr>\n",
       "    <tr>\n",
       "      <th>683</th>\n",
       "      <td>[bravo]</td>\n",
       "      <td>1</td>\n",
       "      <td>0</td>\n",
       "      <td>0</td>\n",
       "    </tr>\n",
       "  </tbody>\n",
       "</table>\n",
       "</div>"
      ],
      "text/plain": [
       "                                             Reply Text Tokens  \\\n",
       "1541                                                 [rejoice]   \n",
       "1712  [happy, I, m, liable, responsible, action, adult, child]   \n",
       "683                                                    [bravo]   \n",
       "\n",
       "      Opinion Lexicon  Vader  TextBlob  \n",
       "1541                1      1         0  \n",
       "1712                0      1         1  \n",
       "683                 1      0         0  "
      ]
     },
     "execution_count": 66,
     "metadata": {},
     "output_type": "execute_result"
    }
   ],
   "source": [
    "#looking at the sample of 3 for our data\n",
    "BestToken.sample(3)"
   ]
  },
  {
   "cell_type": "markdown",
   "id": "5465e11f",
   "metadata": {},
   "source": [
    "**since we don't have creation date time we'll add BestToken df and datetime from our original df to a new df SentimentOverTime**"
   ]
  },
  {
   "cell_type": "code",
   "execution_count": 67,
   "id": "840048e7",
   "metadata": {},
   "outputs": [],
   "source": [
    "#creating a df and adding relevant columns to the df\n",
    "SentimentOverTime = pd.DataFrame()\n",
    "SentimentOverTime = BestToken\n",
    "SentimentOverTime['ReplyCreationTime'] = df['ReplyCreationTime']"
   ]
  },
  {
   "cell_type": "code",
   "execution_count": 68,
   "id": "18658294",
   "metadata": {},
   "outputs": [
    {
     "data": {
      "text/html": [
       "<div>\n",
       "<style scoped>\n",
       "    .dataframe tbody tr th:only-of-type {\n",
       "        vertical-align: middle;\n",
       "    }\n",
       "\n",
       "    .dataframe tbody tr th {\n",
       "        vertical-align: top;\n",
       "    }\n",
       "\n",
       "    .dataframe thead th {\n",
       "        text-align: right;\n",
       "    }\n",
       "</style>\n",
       "<table border=\"1\" class=\"dataframe\">\n",
       "  <thead>\n",
       "    <tr style=\"text-align: right;\">\n",
       "      <th></th>\n",
       "      <th>Reply Text Tokens</th>\n",
       "      <th>Opinion Lexicon</th>\n",
       "      <th>Vader</th>\n",
       "      <th>TextBlob</th>\n",
       "      <th>ReplyCreationTime</th>\n",
       "    </tr>\n",
       "  </thead>\n",
       "  <tbody>\n",
       "    <tr>\n",
       "      <th>963</th>\n",
       "      <td>[bad, can, not, read, observe, picket, line, hereabout]</td>\n",
       "      <td>-1</td>\n",
       "      <td>-1</td>\n",
       "      <td>-1</td>\n",
       "      <td>2023-12-08T01:47:16.708Z</td>\n",
       "    </tr>\n",
       "    <tr>\n",
       "      <th>894</th>\n",
       "      <td>[bailout, billionaire, corporation, government, would, break, back, pass, forgiveness]</td>\n",
       "      <td>-1</td>\n",
       "      <td>1</td>\n",
       "      <td>0</td>\n",
       "      <td>2023-12-13T20:17:07.465Z</td>\n",
       "    </tr>\n",
       "    <tr>\n",
       "      <th>1120</th>\n",
       "      <td>[sad, would, happen, heir, king, arthur, throne, inventor, transistor, radio, former, assistant, lando, calrissian]</td>\n",
       "      <td>-1</td>\n",
       "      <td>-1</td>\n",
       "      <td>-1</td>\n",
       "      <td>2023-12-01T18:50:49.289Z</td>\n",
       "    </tr>\n",
       "  </tbody>\n",
       "</table>\n",
       "</div>"
      ],
      "text/plain": [
       "                                                                                                        Reply Text Tokens  \\\n",
       "963                                                               [bad, can, not, read, observe, picket, line, hereabout]   \n",
       "894                                [bailout, billionaire, corporation, government, would, break, back, pass, forgiveness]   \n",
       "1120  [sad, would, happen, heir, king, arthur, throne, inventor, transistor, radio, former, assistant, lando, calrissian]   \n",
       "\n",
       "      Opinion Lexicon  Vader  TextBlob         ReplyCreationTime  \n",
       "963                -1     -1        -1  2023-12-08T01:47:16.708Z  \n",
       "894                -1      1         0  2023-12-13T20:17:07.465Z  \n",
       "1120               -1     -1        -1  2023-12-01T18:50:49.289Z  "
      ]
     },
     "execution_count": 68,
     "metadata": {},
     "output_type": "execute_result"
    }
   ],
   "source": [
    "#printing a sample of df\n",
    "SentimentOverTime.sample(3)"
   ]
  },
  {
   "cell_type": "markdown",
   "id": "a2e4ef37",
   "metadata": {},
   "source": [
    "**Since ReplyCreationTime contains time as well and the plot was coming with a lot of datapoints, we'll change the datetime to just date**"
   ]
  },
  {
   "cell_type": "code",
   "execution_count": 69,
   "id": "1df0c147",
   "metadata": {},
   "outputs": [],
   "source": [
    "#changing the datatype of ReplyCreationTime to date\n",
    "SentimentOverTime['ReplyCreationTime'] = pd.to_datetime(SentimentOverTime['ReplyCreationTime']).dt.date"
   ]
  },
  {
   "cell_type": "code",
   "execution_count": 70,
   "id": "6454ca1e",
   "metadata": {},
   "outputs": [
    {
     "data": {
      "text/html": [
       "<div>\n",
       "<style scoped>\n",
       "    .dataframe tbody tr th:only-of-type {\n",
       "        vertical-align: middle;\n",
       "    }\n",
       "\n",
       "    .dataframe tbody tr th {\n",
       "        vertical-align: top;\n",
       "    }\n",
       "\n",
       "    .dataframe thead th {\n",
       "        text-align: right;\n",
       "    }\n",
       "</style>\n",
       "<table border=\"1\" class=\"dataframe\">\n",
       "  <thead>\n",
       "    <tr style=\"text-align: right;\">\n",
       "      <th></th>\n",
       "      <th>Reply Text Tokens</th>\n",
       "      <th>Opinion Lexicon</th>\n",
       "      <th>Vader</th>\n",
       "      <th>TextBlob</th>\n",
       "      <th>ReplyCreationTime</th>\n",
       "    </tr>\n",
       "  </thead>\n",
       "  <tbody>\n",
       "    <tr>\n",
       "      <th>1583</th>\n",
       "      <td>[feel, kinda, weird, see, uss, last, year, democracy, imagine, half, voter, okay, literal, dictator, lead, country]</td>\n",
       "      <td>0</td>\n",
       "      <td>1</td>\n",
       "      <td>-1</td>\n",
       "      <td>2024-01-16</td>\n",
       "    </tr>\n",
       "    <tr>\n",
       "      <th>1259</th>\n",
       "      <td>[correct, alt, behind, lectern]</td>\n",
       "      <td>1</td>\n",
       "      <td>0</td>\n",
       "      <td>-1</td>\n",
       "      <td>2024-01-24</td>\n",
       "    </tr>\n",
       "    <tr>\n",
       "      <th>1062</th>\n",
       "      <td>[applaud, standing, effortsi, think, much, smart, enough, make, right, decision, think, run, third, party, help, trump, interview, rachel, maddow, last, night, fantastic, fundamental, opposite, right, thing]</td>\n",
       "      <td>1</td>\n",
       "      <td>1</td>\n",
       "      <td>1</td>\n",
       "      <td>2023-12-05</td>\n",
       "    </tr>\n",
       "  </tbody>\n",
       "</table>\n",
       "</div>"
      ],
      "text/plain": [
       "                                                                                                                                                                                                    Reply Text Tokens  \\\n",
       "1583                                                                                              [feel, kinda, weird, see, uss, last, year, democracy, imagine, half, voter, okay, literal, dictator, lead, country]   \n",
       "1259                                                                                                                                                                                  [correct, alt, behind, lectern]   \n",
       "1062  [applaud, standing, effortsi, think, much, smart, enough, make, right, decision, think, run, third, party, help, trump, interview, rachel, maddow, last, night, fantastic, fundamental, opposite, right, thing]   \n",
       "\n",
       "      Opinion Lexicon  Vader  TextBlob ReplyCreationTime  \n",
       "1583                0      1        -1        2024-01-16  \n",
       "1259                1      0        -1        2024-01-24  \n",
       "1062                1      1         1        2023-12-05  "
      ]
     },
     "execution_count": 70,
     "metadata": {},
     "output_type": "execute_result"
    }
   ],
   "source": [
    "#checking the final sample of out SentimentOverTime df\n",
    "SentimentOverTime.sample(3)"
   ]
  },
  {
   "cell_type": "code",
   "execution_count": 71,
   "id": "12bd6090",
   "metadata": {},
   "outputs": [
    {
     "data": {
      "image/png": "[encoded data removed]",
      "text/plain": [
       "<Figure size 2000x1000 with 1 Axes>"
      ]
     },
     "metadata": {},
     "output_type": "display_data"
    }
   ],
   "source": [
    "#grouping all the sentiments by date \n",
    "vader_over_time = SentimentOverTime.groupby('ReplyCreationTime')['Vader'].mean()\n",
    "textblob_over_time = SentimentOverTime.groupby('ReplyCreationTime')['TextBlob'].mean()\n",
    "lexicon_over_time = SentimentOverTime.groupby('ReplyCreationTime')['Opinion Lexicon'].mean()\n",
    "# Plotting all the sentiments together over time\n",
    "plt.figure(figsize=(20, 10))\n",
    "vader_over_time.plot()\n",
    "textblob_over_time.plot()\n",
    "lexicon_over_time.plot()\n",
    "plt.xlabel('Date')\n",
    "plt.ylabel('Negative Sentiment ------------------------- Positive Sentiment')\n",
    "plt.legend()\n",
    "plt.show()"
   ]
  },
  {
   "cell_type": "markdown",
   "id": "ff4a727d",
   "metadata": {},
   "source": [
    "#### We can see from the plot above that there was a lot of negative sentimets amongst the replies near 12/08/23. Upon checking the data manually, I came across a post where some republicans who claimed to be presidential electors in 2020 and submitted certificates to Congress falsely asserting that former president Donald Trump had won the election in their state were charged by the nevada grand jury and people were not happy about it and that was visible in their replies where they were using a lot of angry or swear words, which explains the downfall in the sentiments of replies at that time."
   ]
  },
  {
   "cell_type": "markdown",
   "id": "f2f94646",
   "metadata": {},
   "source": [
    "#### Also, near 12/20/23, there was a surge in the positive sentiments. Upon checking the data manually, there was a post : 'In a historic decision Tuesday, the Colorado Supreme Court barred Donald Trump from running in the state’s presidential primary after determining that he had engaged in insurrection on Jan. 6, 2021.' and the replies from users seems to be very positive where users used phases like 'love it' or 'best news of the day'. This explains the surge in positive sentimets for that day."
   ]
  },
  {
   "cell_type": "markdown",
   "id": "d7cd5573",
   "metadata": {},
   "source": [
    "#### The rest of the plot seems not so polar as the polarity of sentiments were not so high and low as the above two days."
   ]
  },
  {
   "cell_type": "markdown",
   "id": "b69ea9b3",
   "metadata": {},
   "source": [
    "### Bonus Question"
   ]
  },
  {
   "cell_type": "markdown",
   "id": "bd5dc877",
   "metadata": {},
   "source": [
    "**i) Pick an online site where you are eager to try out web-scraping skills to fetch data. Fetch at least 10 web pages and associated text data using the BeautifulSoup Python package for scraping**"
   ]
  },
  {
   "cell_type": "markdown",
   "id": "404561d7",
   "metadata": {},
   "source": [
    "**I'm taking amazon as the online site and fetching the product title and their reviews for 15 webpages**  \n",
    "**I'm taking 15 products from the makeup brand elf and will store it's title and reviews** "
   ]
  },
  {
   "cell_type": "code",
   "execution_count": 72,
   "id": "5ae64a3a",
   "metadata": {},
   "outputs": [],
   "source": [
    "#created a function to fetch title and reviews \n",
    "# Reference : https://realpython.com/beautiful-soup-web-scraper-python/\n",
    "def scrapedata(url):\n",
    "    response = requests.get(url)\n",
    "    soup = BeautifulSoup(response.content, 'html.parser')\n",
    "    \n",
    "    # Product title\n",
    "    title = soup.find('span', id='productTitle').get_text().strip()\n",
    "    \n",
    "    # Product reviews\n",
    "    reviews = []\n",
    "    tags = soup.find_all('div', {'data-hook': 'review'})\n",
    "    for i in tags:\n",
    "        review = i.find('span', {'data-hook': 'review-body'}).get_text().strip()\n",
    "        reviews.append(review)\n",
    "    \n",
    "    return [title, reviews]"
   ]
  },
  {
   "cell_type": "code",
   "execution_count": 73,
   "id": "872b2984",
   "metadata": {},
   "outputs": [],
   "source": [
    "#making a list of 15 urls\n",
    "elf_url=['https://a.co/d/cEHOUjE',\n",
    "         'https://a.co/d/5V9lHVR',\n",
    "         'https://a.co/d/crBAU2Y',\n",
    "         'https://a.co/d/1hKANd1',\n",
    "         'https://a.co/d/7RjdNkM',\n",
    "         'https://a.co/d/bc6Pqkq',\n",
    "         'https://a.co/d/5o9I7dg',\n",
    "         'https://a.co/d/5p6FmBU',\n",
    "         'https://a.co/d/9StmbFp',\n",
    "         'https://a.co/d/41RY1RJ',\n",
    "         'https://a.co/d/7LquOLH',\n",
    "         'https://a.co/d/i4Xq0l7',\n",
    "         'https://a.co/d/7q7uMEM',\n",
    "         'https://a.co/d/hlyrt9M',\n",
    "         'https://a.co/d/hxn7uj8']"
   ]
  },
  {
   "cell_type": "code",
   "execution_count": 74,
   "id": "6df3f46a",
   "metadata": {},
   "outputs": [],
   "source": [
    "#creating an empty list to store title and reviews\n",
    "results = []\n",
    "\n",
    "#running a loop to store title and reviews after scraping data from amazon\n",
    "for url in elf_url:\n",
    "    title, reviews = scrapedata(url)\n",
    "    for i in reviews:\n",
    "        results.append([title, i])"
   ]
  },
  {
   "cell_type": "code",
   "execution_count": 75,
   "id": "0f7c411c",
   "metadata": {},
   "outputs": [
    {
     "data": {
      "text/html": [
       "<div>\n",
       "<style scoped>\n",
       "    .dataframe tbody tr th:only-of-type {\n",
       "        vertical-align: middle;\n",
       "    }\n",
       "\n",
       "    .dataframe tbody tr th {\n",
       "        vertical-align: top;\n",
       "    }\n",
       "\n",
       "    .dataframe thead th {\n",
       "        text-align: right;\n",
       "    }\n",
       "</style>\n",
       "<table border=\"1\" class=\"dataframe\">\n",
       "  <thead>\n",
       "    <tr style=\"text-align: right;\">\n",
       "      <th></th>\n",
       "      <th>Title</th>\n",
       "      <th>Review</th>\n",
       "    </tr>\n",
       "  </thead>\n",
       "  <tbody>\n",
       "    <tr>\n",
       "      <th>0</th>\n",
       "      <td>e.l.f. Power Grip Primer + 4% Niacinamide, Gel-Based &amp; Hydrating Face Primer, Evens Skin &amp; Brightens, Grips Makeup, Vegan &amp; Cruelty-Free, 0.811 Fl Oz</td>\n",
       "      <td>I have oily/combo skin and I really struggled to find the right primer for me. I combine this with the elf camo cc cream and it's perfect. it creates such a great, natural looking base for the rest of my makeup that lasts the whole day. definitely a holy grail product imo\\nRead more</td>\n",
       "    </tr>\n",
       "    <tr>\n",
       "      <th>1</th>\n",
       "      <td>e.l.f. Power Grip Primer + 4% Niacinamide, Gel-Based &amp; Hydrating Face Primer, Evens Skin &amp; Brightens, Grips Makeup, Vegan &amp; Cruelty-Free, 0.811 Fl Oz</td>\n",
       "      <td>I use this as well as some other primers .This one really seems to really help with redness . I love the extra ingredient for my skin. This is very easy to use and keeps thrvmake up on all day. I even put a dab behind my ear and spray perfume, and it seems to last a little longer. Definitely worth the price and works fabulously.\\nRead more</td>\n",
       "    </tr>\n",
       "    <tr>\n",
       "      <th>2</th>\n",
       "      <td>e.l.f. Power Grip Primer + 4% Niacinamide, Gel-Based &amp; Hydrating Face Primer, Evens Skin &amp; Brightens, Grips Makeup, Vegan &amp; Cruelty-Free, 0.811 Fl Oz</td>\n",
       "      <td>No se siente pegajoso al utilizarlo. Realmente cumple con sus características el maquillaje se pega a la cara para durar más y no se siente para nada pesado.  Disimula muy bien los poros. Cuando se acabe es el que compraré nuevamente.\\nRead more</td>\n",
       "    </tr>\n",
       "    <tr>\n",
       "      <th>3</th>\n",
       "      <td>e.l.f. Power Grip Primer + 4% Niacinamide, Gel-Based &amp; Hydrating Face Primer, Evens Skin &amp; Brightens, Grips Makeup, Vegan &amp; Cruelty-Free, 0.811 Fl Oz</td>\n",
       "      <td>First I will say that this primer does keep your makeup on. It's sticky at first and not that easy to spread so you have to be quick.  But, I am an older female and didn't find the product the right one for my face. It made my face shiny and puffy - maybe that last was sensitivity. I thought I would appreciate the pink and the glow but that glow on me was really just too shiny. It also caused foundation to settle into lines more than usual. So, it didn't do what it should for a face my age. That said, I think this product is probably good for someone younger if you can get past the initial sticky feeling. I also had no trouble returning,so I am giving this 4 stars based on the qualifications I mentioned. I do like Elf products so I will return to the Elf primer I was using before (Skin Suntouchable - which goes on very smooth and holds my makeup just fine).\\nRead more</td>\n",
       "    </tr>\n",
       "    <tr>\n",
       "      <th>4</th>\n",
       "      <td>e.l.f. Power Grip Primer + 4% Niacinamide, Gel-Based &amp; Hydrating Face Primer, Evens Skin &amp; Brightens, Grips Makeup, Vegan &amp; Cruelty-Free, 0.811 Fl Oz</td>\n",
       "      <td>I have never purchased ELF cosmetics but I had seen a lot of reviews about the face primer. It's very affordable and it does the job. It feels like a glue but not sticky like glue. The moisture is very well balanced and I have combination skin. I have tried other expensive primers that make me oily or too dry. The foundation does last better with the primer worn without feeling heavy.\\nRead more</td>\n",
       "    </tr>\n",
       "  </tbody>\n",
       "</table>\n",
       "</div>"
      ],
      "text/plain": [
       "                                                                                                                                                   Title  \\\n",
       "0  e.l.f. Power Grip Primer + 4% Niacinamide, Gel-Based & Hydrating Face Primer, Evens Skin & Brightens, Grips Makeup, Vegan & Cruelty-Free, 0.811 Fl Oz   \n",
       "1  e.l.f. Power Grip Primer + 4% Niacinamide, Gel-Based & Hydrating Face Primer, Evens Skin & Brightens, Grips Makeup, Vegan & Cruelty-Free, 0.811 Fl Oz   \n",
       "2  e.l.f. Power Grip Primer + 4% Niacinamide, Gel-Based & Hydrating Face Primer, Evens Skin & Brightens, Grips Makeup, Vegan & Cruelty-Free, 0.811 Fl Oz   \n",
       "3  e.l.f. Power Grip Primer + 4% Niacinamide, Gel-Based & Hydrating Face Primer, Evens Skin & Brightens, Grips Makeup, Vegan & Cruelty-Free, 0.811 Fl Oz   \n",
       "4  e.l.f. Power Grip Primer + 4% Niacinamide, Gel-Based & Hydrating Face Primer, Evens Skin & Brightens, Grips Makeup, Vegan & Cruelty-Free, 0.811 Fl Oz   \n",
       "\n",
       "                                                                                                                                                                                                                                                                                                                                                                                                                                                                                                                                                                                                                                                                                                                                                                                                                                                                                                             Review  \n",
       "0                                                                                                                                                                                                                                                                                                                                                                                                                                                                                                                                                                                                                       I have oily/combo skin and I really struggled to find the right primer for me. I combine this with the elf camo cc cream and it's perfect. it creates such a great, natural looking base for the rest of my makeup that lasts the whole day. definitely a holy grail product imo\\nRead more  \n",
       "1                                                                                                                                                                                                                                                                                                                                                                                                                                                                                                                                                             I use this as well as some other primers .This one really seems to really help with redness . I love the extra ingredient for my skin. This is very easy to use and keeps thrvmake up on all day. I even put a dab behind my ear and spray perfume, and it seems to last a little longer. Definitely worth the price and works fabulously.\\nRead more  \n",
       "2                                                                                                                                                                                                                                                                                                                                                                                                                                                                                                                                                                                                                                                             No se siente pegajoso al utilizarlo. Realmente cumple con sus características el maquillaje se pega a la cara para durar más y no se siente para nada pesado.  Disimula muy bien los poros. Cuando se acabe es el que compraré nuevamente.\\nRead more  \n",
       "3  First I will say that this primer does keep your makeup on. It's sticky at first and not that easy to spread so you have to be quick.  But, I am an older female and didn't find the product the right one for my face. It made my face shiny and puffy - maybe that last was sensitivity. I thought I would appreciate the pink and the glow but that glow on me was really just too shiny. It also caused foundation to settle into lines more than usual. So, it didn't do what it should for a face my age. That said, I think this product is probably good for someone younger if you can get past the initial sticky feeling. I also had no trouble returning,so I am giving this 4 stars based on the qualifications I mentioned. I do like Elf products so I will return to the Elf primer I was using before (Skin Suntouchable - which goes on very smooth and holds my makeup just fine).\\nRead more  \n",
       "4                                                                                                                                                                                                                                                                                                                                                                                                                                                                                                    I have never purchased ELF cosmetics but I had seen a lot of reviews about the face primer. It's very affordable and it does the job. It feels like a glue but not sticky like glue. The moisture is very well balanced and I have combination skin. I have tried other expensive primers that make me oily or too dry. The foundation does last better with the primer worn without feeling heavy.\\nRead more  "
      ]
     },
     "execution_count": 75,
     "metadata": {},
     "output_type": "execute_result"
    }
   ],
   "source": [
    "#storing the title and reviews in a df\n",
    "edf2 = pd.DataFrame(results, columns=['Title', 'Review'])\n",
    "edf2.head()"
   ]
  },
  {
   "cell_type": "code",
   "execution_count": 76,
   "id": "a3bce9d8",
   "metadata": {},
   "outputs": [],
   "source": [
    "#saving the data to a csv file\n",
    "edf2.to_csv('elfdata.csv', index=False)"
   ]
  },
  {
   "cell_type": "markdown",
   "id": "2ec88a7e",
   "metadata": {},
   "source": [
    "**ii) Clean the collected data and conduct sentiment analysis to show the polarity of each of these 10 scraped data points.**"
   ]
  },
  {
   "cell_type": "code",
   "execution_count": 77,
   "id": "718c6df8",
   "metadata": {},
   "outputs": [],
   "source": [
    "#reusing the code from the 2nd question to clean the data\n",
    "#removed punct, numbers and stopwords and made everything lowercase\n",
    "edf2.Review = edf2.Review.replace('[^\\w\\s+]', '', regex=True)\n",
    "edf2.Title = edf2.Title.replace('[^\\w\\s+]', '', regex=True)\n",
    "edf2.Review = edf2.Review.replace('\\d', '', regex=True)\n",
    "edf2.Title = edf2.Title.replace('\\d', '', regex=True)\n",
    "edf2.Review = edf2.Review.str.lower()\n",
    "edf2.Title = edf2.Title.str.lower()\n",
    "edf2[\"Review\"] = edf2[\"Review\"].apply(remove_stops)\n",
    "edf2[\"Title\"] = edf2[\"Title\"].apply(remove_stops)"
   ]
  },
  {
   "cell_type": "code",
   "execution_count": 78,
   "id": "49e7c7d9",
   "metadata": {},
   "outputs": [
    {
     "data": {
      "text/html": [
       "<div>\n",
       "<style scoped>\n",
       "    .dataframe tbody tr th:only-of-type {\n",
       "        vertical-align: middle;\n",
       "    }\n",
       "\n",
       "    .dataframe tbody tr th {\n",
       "        vertical-align: top;\n",
       "    }\n",
       "\n",
       "    .dataframe thead th {\n",
       "        text-align: right;\n",
       "    }\n",
       "</style>\n",
       "<table border=\"1\" class=\"dataframe\">\n",
       "  <thead>\n",
       "    <tr style=\"text-align: right;\">\n",
       "      <th></th>\n",
       "      <th>Title</th>\n",
       "      <th>Review</th>\n",
       "    </tr>\n",
       "  </thead>\n",
       "  <tbody>\n",
       "    <tr>\n",
       "      <th>179</th>\n",
       "      <td>elf cosmetics brow lift clear eyebrow shaping wax holding brows place creates fluffy feathered look</td>\n",
       "      <td>turned brows seemed lay flat saw tutorial lift brows instant facelift works used clear mascara gels never lasted throughout day love flake use lash brush products makes brows look much fuller budget friendly price nothing lose buy read</td>\n",
       "    </tr>\n",
       "    <tr>\n",
       "      <th>65</th>\n",
       "      <td>elf hydrating camo concealer lightweight full coverage long lasting conceals corrects covers hydrates highlights light sand satin finish shades allday wear fl oz</td>\n",
       "      <td>elf hydrating camo concealer gamechanger makeup routine combines best worlds lightweight feel full coverage pleasantly surprised well concealer performedfirstly lightweight formula dream apply blends seamlessly doesnt feel heavy cakey skin despite weightlessness manages provide impressive coverage effectively concealing imperfections dark circles blemishesthe hydrating aspect standout feature concealer doesnt dry skin settle fine lines instead keeps undereye area looking fresh hydrated throughout day huge win methe shade range extensive making easy find perfect match skin tone plus doefoot applicator allows precise application target specific areas easeive used many concealers past elfs hydrating camo concealer quickly become one favorites fantastic product delivers promises offering natural look impressive coverage highly recommend anyone looking reliable concealer wont break bank read</td>\n",
       "    </tr>\n",
       "    <tr>\n",
       "      <th>135</th>\n",
       "      <td>elf clear lash brow mascara pack conditioning clear brow lash gel grooming defining separating longlasting vegan crueltyfree</td>\n",
       "      <td>ive using eyebrow gel years leave white flakes hold lasts day however use eyelash gel feel could harsh eyelashes end using sides eyebrows havent disappointed lets forget affordable read</td>\n",
       "    </tr>\n",
       "  </tbody>\n",
       "</table>\n",
       "</div>"
      ],
      "text/plain": [
       "                                                                                                                                                                 Title  \\\n",
       "179                                                                elf cosmetics brow lift clear eyebrow shaping wax holding brows place creates fluffy feathered look   \n",
       "65   elf hydrating camo concealer lightweight full coverage long lasting conceals corrects covers hydrates highlights light sand satin finish shades allday wear fl oz   \n",
       "135                                       elf clear lash brow mascara pack conditioning clear brow lash gel grooming defining separating longlasting vegan crueltyfree   \n",
       "\n",
       "                                                                                                                                                                                                                                                                                                                                                                                                                                                                                                                                                                                                                                                                                                                                                                                                                                                                                                                                  Review  \n",
       "179                                                                                                                                                                                                                                                                                                                                                                                                                                                                                                                                                                                                                                                                                          turned brows seemed lay flat saw tutorial lift brows instant facelift works used clear mascara gels never lasted throughout day love flake use lash brush products makes brows look much fuller budget friendly price nothing lose buy read  \n",
       "65   elf hydrating camo concealer gamechanger makeup routine combines best worlds lightweight feel full coverage pleasantly surprised well concealer performedfirstly lightweight formula dream apply blends seamlessly doesnt feel heavy cakey skin despite weightlessness manages provide impressive coverage effectively concealing imperfections dark circles blemishesthe hydrating aspect standout feature concealer doesnt dry skin settle fine lines instead keeps undereye area looking fresh hydrated throughout day huge win methe shade range extensive making easy find perfect match skin tone plus doefoot applicator allows precise application target specific areas easeive used many concealers past elfs hydrating camo concealer quickly become one favorites fantastic product delivers promises offering natural look impressive coverage highly recommend anyone looking reliable concealer wont break bank read  \n",
       "135                                                                                                                                                                                                                                                                                                                                                                                                                                                                                                                                                                                                                                                                                                                                            ive using eyebrow gel years leave white flakes hold lasts day however use eyelash gel feel could harsh eyelashes end using sides eyebrows havent disappointed lets forget affordable read  "
      ]
     },
     "execution_count": 78,
     "metadata": {},
     "output_type": "execute_result"
    }
   ],
   "source": [
    "#checking sample\n",
    "edf2.sample(3)"
   ]
  },
  {
   "cell_type": "code",
   "execution_count": 79,
   "id": "cb7b9c90",
   "metadata": {},
   "outputs": [],
   "source": [
    "#reusing the vader sentiment analysis function we created before to do sentiment analysis\n",
    "edf2['Vader'] = edf2['Review'].apply(vader_score)"
   ]
  },
  {
   "cell_type": "code",
   "execution_count": 80,
   "id": "c9762c3c",
   "metadata": {},
   "outputs": [
    {
     "data": {
      "text/html": [
       "<div>\n",
       "<style scoped>\n",
       "    .dataframe tbody tr th:only-of-type {\n",
       "        vertical-align: middle;\n",
       "    }\n",
       "\n",
       "    .dataframe tbody tr th {\n",
       "        vertical-align: top;\n",
       "    }\n",
       "\n",
       "    .dataframe thead th {\n",
       "        text-align: right;\n",
       "    }\n",
       "</style>\n",
       "<table border=\"1\" class=\"dataframe\">\n",
       "  <thead>\n",
       "    <tr style=\"text-align: right;\">\n",
       "      <th></th>\n",
       "      <th>Title</th>\n",
       "      <th>Review</th>\n",
       "      <th>Vader</th>\n",
       "    </tr>\n",
       "  </thead>\n",
       "  <tbody>\n",
       "    <tr>\n",
       "      <th>176</th>\n",
       "      <td>elf cosmetics brow lift clear eyebrow shaping wax holding brows place creates fluffy feathered look</td>\n",
       "      <td>adore product exactly says brows thin super thick either love feathered brow look using spoolie brush along gets job done stays put hours definitely going repurchase think considering buying expensive product supposed thing definitely try one first read</td>\n",
       "      <td>1</td>\n",
       "    </tr>\n",
       "    <tr>\n",
       "      <th>147</th>\n",
       "      <td>elf halo glow contour beauty wand liquid contour wand naturally sculpted look buildable formula vegan crueltyfree deeprich</td>\n",
       "      <td>contour amazing glow like highlighter much definitely buy read</td>\n",
       "      <td>1</td>\n",
       "    </tr>\n",
       "    <tr>\n",
       "      <th>17</th>\n",
       "      <td>elf glow reviver lip oil nourishing tinted lip oil highshine finish infused jojoba oil vegan crueltyfree pink quartz</td>\n",
       "      <td>lip oil lovely right amount pigment shine feels substantial thick applicator perfect size shape bought love shades read</td>\n",
       "      <td>1</td>\n",
       "    </tr>\n",
       "  </tbody>\n",
       "</table>\n",
       "</div>"
      ],
      "text/plain": [
       "                                                                                                                          Title  \\\n",
       "176                         elf cosmetics brow lift clear eyebrow shaping wax holding brows place creates fluffy feathered look   \n",
       "147  elf halo glow contour beauty wand liquid contour wand naturally sculpted look buildable formula vegan crueltyfree deeprich   \n",
       "17         elf glow reviver lip oil nourishing tinted lip oil highshine finish infused jojoba oil vegan crueltyfree pink quartz   \n",
       "\n",
       "                                                                                                                                                                                                                                                            Review  \\\n",
       "176  adore product exactly says brows thin super thick either love feathered brow look using spoolie brush along gets job done stays put hours definitely going repurchase think considering buying expensive product supposed thing definitely try one first read   \n",
       "147                                                                                                                                                                                                 contour amazing glow like highlighter much definitely buy read   \n",
       "17                                                                                                                                         lip oil lovely right amount pigment shine feels substantial thick applicator perfect size shape bought love shades read   \n",
       "\n",
       "     Vader  \n",
       "176      1  \n",
       "147      1  \n",
       "17       1  "
      ]
     },
     "execution_count": 80,
     "metadata": {},
     "output_type": "execute_result"
    }
   ],
   "source": [
    "#checking a sample\n",
    "edf2.sample(3)"
   ]
  },
  {
   "cell_type": "code",
   "execution_count": 81,
   "id": "6544b340",
   "metadata": {},
   "outputs": [
    {
     "data": {
      "text/plain": [
       "Vader\n",
       "1    182\n",
       "0      3\n",
       "Name: count, dtype: int64"
      ]
     },
     "execution_count": 81,
     "metadata": {},
     "output_type": "execute_result"
    }
   ],
   "source": [
    "#checking the value counts of positive and negative reviews\n",
    "edf2['Vader'].value_counts() "
   ]
  },
  {
   "cell_type": "markdown",
   "id": "d79875c7",
   "metadata": {},
   "source": [
    "### We can see from above that people usually give positive feedback to elf products since it is a top selling brand which sells quality products for low prices and people are generally happy with the brand"
   ]
  },
  {
   "cell_type": "markdown",
   "id": "bf18d6d2",
   "metadata": {},
   "source": [
    "References:\n",
    "- https://www.geeksforgeeks.org/remove-urls-from-string-in-python/\n",
    "- https://www.geeksforgeeks.org/python-remove-punctuation-from-string\n",
    "- https://www.geeksforgeeks.org/python-ways-to-remove-numeric-digits-from-given-string/\n",
    "- https://www.geeksforgeeks.org/pandas-dataframe-iterrows/\n",
    "- https://www.geeksforgeeks.org/python-lemmatization-with-nltk/\n",
    "- https://realpython.com/beautiful-soup-web-scraper-python/"
   ]
  }
 ],
 "metadata": {
  "kernelspec": {
   "display_name": "Python 3 (ipykernel)",
   "language": "python",
   "name": "python3"
  },
  "language_info": {
   "codemirror_mode": {
    "name": "ipython",
    "version": 3
   },
   "file_extension": ".py",
   "mimetype": "text/x-python",
   "name": "python",
   "nbconvert_exporter": "python",
   "pygments_lexer": "ipython3",
   "version": "3.11.5"
  }
 },
 "nbformat": 4,
 "nbformat_minor": 5
}
